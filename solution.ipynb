{
 "cells": [
  {
   "cell_type": "markdown",
   "metadata": {},
   "source": [
    "# Problem set-up\n",
    "\n",
    "_It is suggested you first go over the reading material before you start here._\n",
    "\n",
    "The problem with Quantum Computing Monte Carlo is the scaling of the state preparation. In this notebook, it is shown why there is a problem and you are pointed to some possible solutions."
   ]
  },
  {
   "cell_type": "markdown",
   "metadata": {},
   "source": [
    "## Probability distribution to load"
   ]
  },
  {
   "cell_type": "markdown",
   "metadata": {},
   "source": [
    "### Problem Definition\n",
    "\n",
    "We want to analyze the risk of a portfolio of $K$ assets.\n",
    "The default probability of every asset $k$ follows a *Gaussian Conditional Independence* model, i.e., given a value $z$ sampled from a latent random variable $Z$ following a standard normal distribution, the default probability of asset $k$ is given by\n",
    "\n",
    "$$p_k(z) = F\\left( \\frac{F^{-1}(p_k^0) - \\sqrt{\\rho_k}z}{\\sqrt{1 - \\rho_k}} \\right) $$\n",
    "\n",
    "where $F$ denotes the cumulative distribution function of $Z$, $p_k^0$ is the default probability of asset $k$ for $z=0$ and $\\rho_k$ is the sensitivity of the default probability of asset $k$ with respect to $Z$. Thus, given a concrete realization of $Z$ the individual default events are assumed to be independent from each other.\n",
    "\n",
    "We are interested in analyzing risk measures of the total loss\n",
    "\n",
    "$$ L = \\sum_{k=1}^K \\lambda_k X_k(Z) $$\n",
    "\n",
    "where $\\lambda_k$ denotes the _loss given default_ of asset $k$, and given $Z$, $X_k(Z)$ denotes a Bernoulli variable representing the default event of asset $k$. More precisely, we are interested in the expected value $\\mathbb{E}[L]$, the Value at Risk (VaR) of $L$ and the Conditional Value at Risk of $L$ (also called Expected Shortfall). Where VaR and CVaR are defined as\n",
    "\n",
    "$$ \\text{VaR}_{\\alpha}(L) = \\inf \\{ x \\mid \\mathbb{P}[L <= x] \\geq 1 - \\alpha \\}$$\n",
    "\n",
    "with confidence level $\\alpha \\in [0, 1]$, and\n",
    "\n",
    "$$ \\text{CVaR}_{\\alpha}(L) = \\mathbb{E}[ L \\mid L \\geq \\text{VaR}_{\\alpha}(L) ].$$\n",
    "\n",
    "For more details on the considered model, see, e.g.,<br>\n",
    "[Regulatory Capital Modeling for Credit Risk. Marek Rutkowski, Silvio Tarca](https://arxiv.org/abs/1412.1183)\n",
    "\n",
    "\n",
    "\n",
    "The problem is defined by the following parameters:\n",
    "\n",
    "- the resolution of $Z$, given by $N_Z$\n",
    "- number of qubits used to represent $Z$, denoted by $n_z=\\lceil \\log{N_Z} \\rceil$\n",
    "- truncation value for $Z$, denoted by $z_{\\text{max}}$, i.e., Z is assumed to take $2^{n_z}$ equidistant values in $\\{-z_{max}, ..., +z_{max}\\}$ \n",
    "- the base default probabilities for each asset $p_0^k \\in (0, 1)$, $k=1, ..., K$\n",
    "- sensitivities of the default probabilities with respect to $Z$, denoted by $\\rho_k \\in [0, 1)$\n",
    "- loss given default for asset $k$, denoted by $\\lambda_k$\n",
    "- confidence level for VaR / CVaR $\\alpha \\in [0, 1]$.\n",
    "\n",
    "\n",
    "During this hackathon, the focus will be on the probability distribution loading part, not the VaR and CVaR calculation."
   ]
  },
  {
   "cell_type": "code",
   "execution_count": 1,
   "metadata": {},
   "outputs": [],
   "source": [
    "# pip install qiskit-finance pylatexenc perfplot"
   ]
  },
  {
   "cell_type": "code",
   "execution_count": 2,
   "metadata": {},
   "outputs": [],
   "source": [
    "# imports\n",
    "import numpy as np"
   ]
  },
  {
   "cell_type": "code",
   "execution_count": 3,
   "metadata": {},
   "outputs": [],
   "source": [
    "# set problem parameters\n",
    "N_z = 32\n",
    "n_z = int(np.ceil(np.log2(N_z)))\n",
    "z_max = 3\n",
    "z_values = np.linspace(-z_max, z_max, 2**n_z)\n",
    "p_zeros = [0.15, 0.25, 0.2, 0.1]\n",
    "rhos = [0.1, 0.05, 0.15, 0.05]\n",
    "lgd = [1, 2, 1, 3]\n",
    "K = len(p_zeros)"
   ]
  },
  {
   "cell_type": "code",
   "execution_count": null,
   "metadata": {},
   "outputs": [],
   "source": []
  },
  {
   "cell_type": "markdown",
   "metadata": {},
   "source": [
    "## Qiskit implementation\n",
    "\n",
    "Qiskit already has an implementation for this model. It is within [`qiskit_finance`](https://qiskit-community.github.io/qiskit-finance/). The implementation is imported below as `GCI`.\n",
    "\n",
    "Let's take a closer look at that implementation."
   ]
  },
  {
   "cell_type": "code",
   "execution_count": 4,
   "metadata": {},
   "outputs": [
    {
     "data": {
      "text/html": [
       "<pre style=\"word-wrap: normal;white-space: pre;background: #fff0;line-height: 1.1;font-family: &quot;Courier New&quot;,Courier,monospace\">     ┌───────┐┌─────────┐┌─────────┐┌─────────┐┌─────────┐\n",
       "q_0: ┤0      ├┤0        ├┤0        ├┤0        ├┤0        ├\n",
       "     │       ││         ││         ││         ││         │\n",
       "q_1: ┤1      ├┤1        ├┤1        ├┤1        ├┤1        ├\n",
       "     │       ││         ││         ││         ││         │\n",
       "q_2: ┤2 P(X) ├┤2        ├┤2        ├┤2        ├┤2        ├\n",
       "     │       ││  LinRot ││         ││         ││         │\n",
       "q_3: ┤3      ├┤3        ├┤3 LinRot ├┤3        ├┤3        ├\n",
       "     │       ││         ││         ││  LinRot ││         │\n",
       "q_4: ┤4      ├┤4        ├┤4        ├┤4        ├┤4 LinRot ├\n",
       "     └───────┘│         ││         ││         ││         │\n",
       "q_5: ─────────┤5        ├┤         ├┤         ├┤         ├\n",
       "              └─────────┘│         ││         ││         │\n",
       "q_6: ────────────────────┤5        ├┤         ├┤         ├\n",
       "                         └─────────┘│         ││         │\n",
       "q_7: ───────────────────────────────┤5        ├┤         ├\n",
       "                                    └─────────┘│         │\n",
       "q_8: ──────────────────────────────────────────┤5        ├\n",
       "                                               └─────────┘</pre>"
      ],
      "text/plain": [
       "     ┌───────┐┌─────────┐┌─────────┐┌─────────┐┌─────────┐\n",
       "q_0: ┤0      ├┤0        ├┤0        ├┤0        ├┤0        ├\n",
       "     │       ││         ││         ││         ││         │\n",
       "q_1: ┤1      ├┤1        ├┤1        ├┤1        ├┤1        ├\n",
       "     │       ││         ││         ││         ││         │\n",
       "q_2: ┤2 P(X) ├┤2        ├┤2        ├┤2        ├┤2        ├\n",
       "     │       ││  LinRot ││         ││         ││         │\n",
       "q_3: ┤3      ├┤3        ├┤3 LinRot ├┤3        ├┤3        ├\n",
       "     │       ││         ││         ││  LinRot ││         │\n",
       "q_4: ┤4      ├┤4        ├┤4        ├┤4        ├┤4 LinRot ├\n",
       "     └───────┘│         ││         ││         ││         │\n",
       "q_5: ─────────┤5        ├┤         ├┤         ├┤         ├\n",
       "              └─────────┘│         ││         ││         │\n",
       "q_6: ────────────────────┤5        ├┤         ├┤         ├\n",
       "                         └─────────┘│         ││         │\n",
       "q_7: ───────────────────────────────┤5        ├┤         ├\n",
       "                                    └─────────┘│         │\n",
       "q_8: ──────────────────────────────────────────┤5        ├\n",
       "                                               └─────────┘"
      ]
     },
     "execution_count": 4,
     "metadata": {},
     "output_type": "execute_result"
    }
   ],
   "source": [
    "import qiskit as q\n",
    "\n",
    "# took from qiskit_finance.circuit.library\n",
    "\"\"\"The Gaussian Conditional Independence Model for Credit Risk.\"\"\"\n",
    "\n",
    "from typing import List, Union\n",
    "import numpy as np\n",
    "from scipy.stats.distributions import norm\n",
    "\n",
    "from qiskit.circuit import QuantumCircuit\n",
    "from qiskit.circuit.library import LinearPauliRotations\n",
    "from qiskit_finance.circuit.library.probability_distributions.normal import (\n",
    "    NormalDistribution,\n",
    ")\n",
    "\n",
    "\n",
    "class GCI(q.QuantumCircuit):\n",
    "    \"\"\"The Gaussian Conditional Independence Model for Credit Risk.\n",
    "    Reference: https://arxiv.org/abs/1412.1183\n",
    "    Dependency between individual risk variables and latent variable is approximated linearly.\n",
    "    \"\"\"\n",
    "\n",
    "    def __init__(\n",
    "        self,\n",
    "        n_normal: int,\n",
    "        normal_max_value: float,\n",
    "        p_zeros: Union[List[float], np.ndarray],\n",
    "        rhos: Union[List[float], np.ndarray],\n",
    "    ) -> None:\n",
    "        \"\"\"\n",
    "        Args:\n",
    "            n_normal: Number of qubits to represent the latent normal random variable Z\n",
    "            normal_max_value: Min/max value to truncate the latent normal random variable Z\n",
    "            p_zeros: Standard default probabilities for each asset\n",
    "            rhos: Sensitivities of default probability of assets with respect to latent variable Z\n",
    "        \"\"\"\n",
    "        self.n_normal = n_normal\n",
    "        self.normal_max_value = normal_max_value\n",
    "        self.p_zeros = p_zeros\n",
    "        self.rhos = rhos\n",
    "        num_qubits = n_normal + len(p_zeros)\n",
    "\n",
    "        # get normal (inverse) CDF and pdf (these names are from the paper, therefore ignore\n",
    "        # pylint)\n",
    "        def F(x):  # pylint: disable=invalid-name\n",
    "            return norm.cdf(x)\n",
    "\n",
    "        def F_inv(x):  # pylint: disable=invalid-name\n",
    "            return norm.ppf(x)\n",
    "\n",
    "        def f(x):  # pylint: disable=invalid-name\n",
    "            return norm.pdf(x)\n",
    "\n",
    "        # create linear rotations for conditional defaults\n",
    "        slopes = []\n",
    "        offsets = []\n",
    "        for rho, p_zero in zip(rhos, p_zeros):\n",
    "            psi = F_inv(p_zero) / np.sqrt(1 - rho)\n",
    "\n",
    "            # compute slope / offset\n",
    "            slope = -np.sqrt(rho) / np.sqrt(1 - rho)\n",
    "            slope *= f(psi) / np.sqrt(1 - F(psi)) / np.sqrt(F(psi))\n",
    "            offset = 2 * np.arcsin(np.sqrt(F(psi)))\n",
    "\n",
    "            # adjust for integer to normal range mapping\n",
    "            offset += slope * (-normal_max_value)\n",
    "            slope *= 2 * normal_max_value / (2**n_normal - 1)\n",
    "\n",
    "            offsets += [offset]\n",
    "            slopes += [slope]\n",
    "\n",
    "        # create normal distribution\n",
    "        normal_distribution = NormalDistribution(\n",
    "            n_normal,\n",
    "            0,\n",
    "            1,\n",
    "            bounds=(-normal_max_value, normal_max_value),\n",
    "        )\n",
    "\n",
    "        # build circuit\n",
    "        inner = QuantumCircuit(num_qubits, name=\"P(X)\")\n",
    "        inner.append(normal_distribution.to_gate(), list(range(n_normal)))\n",
    "        for k, (slope, offset) in enumerate(zip(slopes, offsets)):\n",
    "            lry = LinearPauliRotations(n_normal, slope, offset)\n",
    "            qubits = list(range(n_normal)) + [n_normal + k]\n",
    "            inner.append(lry.to_gate(), qubits)\n",
    "\n",
    "        super().__init__(num_qubits, name=\"P(X)\")\n",
    "        self.append(inner.to_gate(), inner.qubits)\n",
    "\n",
    "\n",
    "# Create unitary\n",
    "u = GCI(n_z, z_max, p_zeros, rhos)\n",
    "\n",
    "# Draw the unitary (decomposed)\n",
    "u.decompose().draw()"
   ]
  },
  {
   "cell_type": "markdown",
   "metadata": {},
   "source": [
    "## Creating P(X)\n",
    "\n",
    "The linear rotations are not that interesting for now. Let us inspect the `P(X)` part of the circuit."
   ]
  },
  {
   "cell_type": "code",
   "execution_count": 5,
   "metadata": {},
   "outputs": [
    {
     "data": {
      "text/html": [
       "<pre style=\"word-wrap: normal;white-space: pre;background: #fff0;line-height: 1.1;font-family: &quot;Courier New&quot;,Courier,monospace\">     ┌───────┐\n",
       "q_0: ┤0      ├\n",
       "     │       │\n",
       "q_1: ┤1      ├\n",
       "     │       │\n",
       "q_2: ┤2 P(X) ├\n",
       "     │       │\n",
       "q_3: ┤3      ├\n",
       "     │       │\n",
       "q_4: ┤4      ├\n",
       "     └───────┘</pre>"
      ],
      "text/plain": [
       "     ┌───────┐\n",
       "q_0: ┤0      ├\n",
       "     │       │\n",
       "q_1: ┤1      ├\n",
       "     │       │\n",
       "q_2: ┤2 P(X) ├\n",
       "     │       │\n",
       "q_3: ┤3      ├\n",
       "     │       │\n",
       "q_4: ┤4      ├\n",
       "     └───────┘"
      ]
     },
     "execution_count": 5,
     "metadata": {},
     "output_type": "execute_result"
    }
   ],
   "source": [
    "# Create normal distribution\n",
    "normal_distribution = NormalDistribution(\n",
    "    n_z,\n",
    "    0,\n",
    "    1,\n",
    "    bounds=(-z_max, z_max),\n",
    ")\n",
    "\n",
    "# Draw it\n",
    "normal_distribution.draw()"
   ]
  },
  {
   "cell_type": "code",
   "execution_count": 6,
   "metadata": {},
   "outputs": [],
   "source": [
    "#normal_distribution_transpiled.copy_empty_like().data"
   ]
  },
  {
   "cell_type": "markdown",
   "metadata": {},
   "source": []
  },
  {
   "cell_type": "raw",
   "metadata": {},
   "source": []
  },
  {
   "cell_type": "code",
   "execution_count": 7,
   "metadata": {},
   "outputs": [],
   "source": [
    "#$normal_distribution_transpiled.data"
   ]
  },
  {
   "cell_type": "markdown",
   "metadata": {},
   "source": [
    "But what is inside? To find that out, we transpile the gate."
   ]
  },
  {
   "cell_type": "code",
   "execution_count": 8,
   "metadata": {},
   "outputs": [],
   "source": [
    "# Define which basis gates to use\n",
    "def our_sol(qc) :\n",
    "    dist = qc.copy()\n",
    "    import qiskit as q\n",
    "    basis_gates = [\"h\", \"ry\", \"cx\", \"p\", \"x\", \"s\", \"sdg\", \"y\", \"t\"]\n",
    "\n",
    "# Transpile the circuit\n",
    "    dist.measure_all(\"meas\")\n",
    "    dist_transpiled = q.transpile(\n",
    "    dist, basis_gates=basis_gates\n",
    ")\n",
    "    k = dist_transpiled.copy_empty_like()\n",
    "    for instruction in dist_transpiled:\n",
    "        k.append(instruction, [instruction.qubits[0]])\n",
    "    \n",
    "    qc = dist_transpiled.copy_empty_like()\n",
    "    for instruction in dist_transpiled:\n",
    "        if instruction.operation.name == 'ry':\n",
    "            if abs(instruction.operation.params[0]) > 1e-6:\n",
    "                qc.append(instruction, [instruction.qubits[0]])\n",
    "        else:\n",
    "            qc.append(instruction, [instruction.qubits[0]])\n",
    "\n",
    "\n",
    "# Draw it\n",
    "    qc.draw(\"mpl\")\n",
    "    return [k,qc]"
   ]
  },
  {
   "cell_type": "markdown",
   "metadata": {},
   "source": [
    "As you can see, the number of controlled gates on the 2nd qubit (q3) is not that high (2), but then the number of controlled gates on the next qubit (q2) is already 4. q1 has 8 controlled gates and q0 has 16 controlled gates. I.e., the circuit depth scales exponential.\n",
    "\n",
    "That is bad!\n",
    "\n",
    "Quantum computers of today have many qubits ($O(100)$), but the qubits are not very good. Noise takes over quickly.\n",
    "\n",
    "Let's see what that means."
   ]
  },
  {
   "cell_type": "code",
   "execution_count": null,
   "metadata": {},
   "outputs": [],
   "source": []
  },
  {
   "cell_type": "markdown",
   "metadata": {},
   "source": [
    "## Running on a noisy simulator"
   ]
  },
  {
   "cell_type": "code",
   "execution_count": 9,
   "metadata": {},
   "outputs": [],
   "source": [
    "from qiskit.transpiler.preset_passmanagers import generate_preset_pass_manager\n",
    "from qiskit_aer import AerSimulator\n",
    "from qiskit_ibm_runtime import SamplerV2 as Sampler\n",
    "from qiskit_ibm_runtime.fake_provider import FakeManilaV2\n",
    "\n",
    "# Run the sampler job locally using FakeManilaV2\n",
    "fake_manila = FakeManilaV2()\n",
    "pm = generate_preset_pass_manager(backend=fake_manila, optimization_level=1)\n",
    "sol_distribution_measured = our_sol(normal_distribution)[1].copy()\n",
    "# sol_distribution_measured.measure_all()\n",
    "qc_trans_manilla = pm.run(sol_distribution_measured)\n",
    "\n",
    "noisy_simulator = AerSimulator.from_backend(fake_manila)\n",
    "results_noisy = noisy_simulator.run(qc_trans_manilla, shots=8192).result()\n",
    "\n",
    "# Run the circuit locally using an exact simulator\n",
    "# This is for testing purposes\n",
    "aer_sim = AerSimulator()\n",
    "# normal_distribution_measured = normal_distribution.copy()\n",
    "# normal_distribution_measured.measure_all()\n",
    "qc_trans_aer = q.transpile(sol_distribution_measured, aer_sim)\n",
    "\n",
    "results_exact = aer_sim.run(qc_trans_aer, shots=10e6).result()"
   ]
  },
  {
   "cell_type": "code",
   "execution_count": 10,
   "metadata": {},
   "outputs": [],
   "source": [
    "fake_manila1 = FakeManilaV2()\n",
    "pm1 = generate_preset_pass_manager(backend=fake_manila1, optimization_level=1)\n",
    "normal_distribution_measured = normal_distribution.copy()\n",
    "normal_distribution_measured.measure_all()\n",
    "qc_trans_manilla1 = pm1.run(normal_distribution_measured)\n",
    "\n",
    "noisy_simulator1 = AerSimulator.from_backend(fake_manila1)\n",
    "results_noisy1 = noisy_simulator.run(qc_trans_manilla1, shots=8192).result()\n",
    "\n",
    "# Run the circuit locally using an exact simulator\n",
    "# This is for testing purposes\n",
    "aer_sim1 = AerSimulator()\n",
    "qc_trans_aer1 = q.transpile(normal_distribution_measured, aer_sim1)\n",
    "\n",
    "results_exact1 = aer_sim1.run(qc_trans_aer1, shots=10e6).result()"
   ]
  },
  {
   "cell_type": "markdown",
   "metadata": {},
   "source": [
    "fake_manila1 = FakeManilaV2()\n",
    "pm1 = generate_preset_pass_manager(backend=fake_manila1, optimization_level=1)\n",
    "qc_trans_manilla1 = pm1.run(our_sol(normal_distribution)[1])\n",
    "\n",
    "noisy_simulator1 = AerSimulator.from_backend(fake_manila1)\n",
    "results_noisy1 = noisy_simulator.run(qc_trans_manilla1, shots=8192).result()\n",
    "\n",
    "# Run the circuit locally using an exact simulator\n",
    "# This is for testing purposes\n",
    "aer_sim1 = AerSimulator()\n",
    "qc_trans_aer1 = q.transpile(our_sol(normal_distribution)[1], aer_sim1)\n",
    "\n",
    "results_exact1 = aer_sim1.run(qc_trans_aer1, shots=10e6).result()"
   ]
  },
  {
   "cell_type": "code",
   "execution_count": 11,
   "metadata": {},
   "outputs": [
    {
     "data": {
      "image/png": "[encoded data removed]",
      "text/plain": [
       "<Figure size 700x500 with 1 Axes>"
      ]
     },
     "execution_count": 11,
     "metadata": {},
     "output_type": "execute_result"
    }
   ],
   "source": [
    "from qiskit.visualization import plot_distribution\n",
    "\n",
    "# Get the counts\n",
    "counts_noisy = results_noisy.get_counts(0)\n",
    "counts_exact = results_exact.get_counts(0)\n",
    "\n",
    "# Now plot the results for our solution graph\n",
    "plot_distribution(\n",
    "    [counts_noisy, counts_exact], legend=[\"noisy\", \"exact\"], bar_labels=False\n",
    ")"
   ]
  },
  {
   "cell_type": "code",
   "execution_count": 12,
   "metadata": {},
   "outputs": [
    {
     "data": {
      "image/png": "[encoded data removed]",
      "text/plain": [
       "<Figure size 700x500 with 1 Axes>"
      ]
     },
     "execution_count": 12,
     "metadata": {},
     "output_type": "execute_result"
    }
   ],
   "source": [
    "from qiskit.visualization import plot_distribution\n",
    "\n",
    "# Get the counts\n",
    "counts_noisy1 = results_noisy1.get_counts(0)\n",
    "counts_exact1 = results_exact1.get_counts(0)\n",
    "\n",
    "# Now plot the results for the original graph\n",
    "plot_distribution(\n",
    "    [counts_noisy1, counts_exact1], legend=[\"noisy\", \"exact\"], bar_labels=False\n",
    ")"
   ]
  },
  {
   "cell_type": "code",
   "execution_count": 13,
   "metadata": {},
   "outputs": [
    {
     "name": "stdout",
     "output_type": "stream",
     "text": [
      "Jensen-Shannon divergence: 0.35324937343843876\n"
     ]
    }
   ],
   "source": [
    "import scipy\n",
    "import numpy as np\n",
    "\n",
    "# Assuming counts_noisy and counts_exact are dictionaries containing measurement outcomes and counts\n",
    "\n",
    "# Convert counts to probability distributions\n",
    "total_counts_noisy = sum(counts_noisy.values())\n",
    "prob_distribution_noisy = {outcome: count / total_counts_noisy for outcome, count in counts_noisy.items()}\n",
    "\n",
    "total_counts_exact = sum(counts_exact.values())\n",
    "prob_distribution_exact = {outcome: count / total_counts_exact for outcome, count in counts_exact.items()}\n",
    "\n",
    "# Compute the Jensen-Shannon divergence\n",
    "js_divergence = scipy.spatial.distance.jensenshannon(\n",
    "    list(prob_distribution_noisy.values()), \n",
    "    list(prob_distribution_exact.values())\n",
    ")\n",
    "\n",
    "print(\"Jensen-Shannon divergence:\", js_divergence)\n"
   ]
  },
  {
   "cell_type": "code",
   "execution_count": 14,
   "metadata": {},
   "outputs": [
    {
     "name": "stdout",
     "output_type": "stream",
     "text": [
      "Jensen-Shannon divergence: 0.36208745894078886\n"
     ]
    }
   ],
   "source": [
    "import scipy\n",
    "import numpy as np\n",
    "\n",
    "# Assuming counts_noisy and counts_exact are dictionaries containing measurement outcomes and counts\n",
    "\n",
    "# Convert counts to probability distributions\n",
    "total_counts_noisy1 = sum(counts_noisy1.values())\n",
    "prob_distribution_noisy1 = {outcome: count1 / total_counts_noisy1 for outcome, count1 in counts_noisy1.items()}\n",
    "\n",
    "total_counts_exact1 = sum(counts_exact1.values())\n",
    "prob_distribution_exact1 = {outcome: count1 / total_counts_exact1 for outcome, count1 in counts_exact1.items()}\n",
    "\n",
    "# Compute the Jensen-Shannon divergence\n",
    "js_divergence = scipy.spatial.distance.jensenshannon(\n",
    "    list(prob_distribution_noisy1.values()), \n",
    "    list(prob_distribution_exact1.values())\n",
    ")\n",
    "\n",
    "print(\"Jensen-Shannon divergence:\", js_divergence)"
   ]
  },
  {
   "cell_type": "markdown",
   "metadata": {},
   "source": [
    "Now the noisy simulator results do not look like a Gaussian to me.\n",
    "\n",
    "That is because the circuits are too deep."
   ]
  },
  {
   "cell_type": "markdown",
   "metadata": {},
   "source": [
    "## Scaling analysis\n",
    "\n",
    "Let see how that scales."
   ]
  },
  {
   "cell_type": "code",
   "execution_count": 15,
   "metadata": {},
   "outputs": [],
   "source": [
    "# import perfplot\n",
    "basis_gates = [\"h\", \"ry\", \"cx\", \"p\", \"x\", \"s\", \"sdg\", \"y\", \"t\"]\n",
    "def our_mult_soln_dist(N_z):\n",
    "    n_z = int(np.ceil(np.log2(N_z)))\n",
    "    soln_dist = our_sol(NormalDistribution(n_z,0,1,(-z_max, z_max)))\n",
    "    \n",
    "    return soln_dist[1]\n",
    "\n",
    "# Create a wrapper function for the qiskit implementation\n",
    "def qiskit_normal_distribution(N_z):\n",
    "    n_z = int(np.ceil(np.log2(N_z)))\n",
    "    normal_distribution = NormalDistribution(n_z, 0, 1, (-z_max, z_max))\n",
    "\n",
    "    return normal_distribution\n",
    "\n",
    "\n",
    "# Create a wrapper function that calculates the circuit depth\n",
    "def get_circuit_depth(qc):\n",
    "    qc_transpiled = q.transpile(qc, basis_gates=basis_gates)\n",
    "    return qc_transpiled.depth()\n"
   ]
  },
  {
   "cell_type": "code",
   "execution_count": 16,
   "metadata": {},
   "outputs": [
    {
     "ename": "KeyboardInterrupt",
     "evalue": "",
     "output_type": "error",
     "traceback": [
      "\u001b[0;31m---------------------------------------------------------------------------\u001b[0m",
      "\u001b[0;31mKeyboardInterrupt\u001b[0m                         Traceback (most recent call last)",
      "Cell \u001b[0;32mIn[16], line 12\u001b[0m\n\u001b[1;32m      9\u001b[0m x \u001b[38;5;241m=\u001b[39m np\u001b[38;5;241m.\u001b[39mlogspace(\u001b[38;5;241m1\u001b[39m, \u001b[38;5;241m12\u001b[39m, \u001b[38;5;241m12\u001b[39m, base\u001b[38;5;241m=\u001b[39m\u001b[38;5;241m2\u001b[39m, dtype\u001b[38;5;241m=\u001b[39m\u001b[38;5;28mint\u001b[39m)\n\u001b[1;32m     11\u001b[0m \u001b[38;5;66;03m# Get the circuit depth for qiskit implementation\u001b[39;00m\n\u001b[0;32m---> 12\u001b[0m y_qiskit \u001b[38;5;241m=\u001b[39m [get_circuit_depth(qiskit_normal_distribution(\u001b[38;5;28mint\u001b[39m(n))) \u001b[38;5;28;01mfor\u001b[39;00m n \u001b[38;5;129;01min\u001b[39;00m x]\n\u001b[1;32m     13\u001b[0m \u001b[38;5;66;03m# counts_list = list(counts_noisy1.items())\u001b[39;00m\n\u001b[1;32m     14\u001b[0m y_qiskit1 \u001b[38;5;241m=\u001b[39m [get_circuit_depth(our_mult_soln_dist(\u001b[38;5;28mint\u001b[39m(n))) \u001b[38;5;28;01mfor\u001b[39;00m n \u001b[38;5;129;01min\u001b[39;00m x]\n",
      "Cell \u001b[0;32mIn[16], line 12\u001b[0m, in \u001b[0;36m<listcomp>\u001b[0;34m(.0)\u001b[0m\n\u001b[1;32m      9\u001b[0m x \u001b[38;5;241m=\u001b[39m np\u001b[38;5;241m.\u001b[39mlogspace(\u001b[38;5;241m1\u001b[39m, \u001b[38;5;241m12\u001b[39m, \u001b[38;5;241m12\u001b[39m, base\u001b[38;5;241m=\u001b[39m\u001b[38;5;241m2\u001b[39m, dtype\u001b[38;5;241m=\u001b[39m\u001b[38;5;28mint\u001b[39m)\n\u001b[1;32m     11\u001b[0m \u001b[38;5;66;03m# Get the circuit depth for qiskit implementation\u001b[39;00m\n\u001b[0;32m---> 12\u001b[0m y_qiskit \u001b[38;5;241m=\u001b[39m [get_circuit_depth(\u001b[43mqiskit_normal_distribution\u001b[49m\u001b[43m(\u001b[49m\u001b[38;5;28;43mint\u001b[39;49m\u001b[43m(\u001b[49m\u001b[43mn\u001b[49m\u001b[43m)\u001b[49m\u001b[43m)\u001b[49m) \u001b[38;5;28;01mfor\u001b[39;00m n \u001b[38;5;129;01min\u001b[39;00m x]\n\u001b[1;32m     13\u001b[0m \u001b[38;5;66;03m# counts_list = list(counts_noisy1.items())\u001b[39;00m\n\u001b[1;32m     14\u001b[0m y_qiskit1 \u001b[38;5;241m=\u001b[39m [get_circuit_depth(our_mult_soln_dist(\u001b[38;5;28mint\u001b[39m(n))) \u001b[38;5;28;01mfor\u001b[39;00m n \u001b[38;5;129;01min\u001b[39;00m x]\n",
      "Cell \u001b[0;32mIn[15], line 12\u001b[0m, in \u001b[0;36mqiskit_normal_distribution\u001b[0;34m(N_z)\u001b[0m\n\u001b[1;32m     10\u001b[0m \u001b[38;5;28;01mdef\u001b[39;00m \u001b[38;5;21mqiskit_normal_distribution\u001b[39m(N_z):\n\u001b[1;32m     11\u001b[0m     n_z \u001b[38;5;241m=\u001b[39m \u001b[38;5;28mint\u001b[39m(np\u001b[38;5;241m.\u001b[39mceil(np\u001b[38;5;241m.\u001b[39mlog2(N_z)))\n\u001b[0;32m---> 12\u001b[0m     normal_distribution \u001b[38;5;241m=\u001b[39m \u001b[43mNormalDistribution\u001b[49m\u001b[43m(\u001b[49m\u001b[43mn_z\u001b[49m\u001b[43m,\u001b[49m\u001b[43m \u001b[49m\u001b[38;5;241;43m0\u001b[39;49m\u001b[43m,\u001b[49m\u001b[43m \u001b[49m\u001b[38;5;241;43m1\u001b[39;49m\u001b[43m,\u001b[49m\u001b[43m \u001b[49m\u001b[43m(\u001b[49m\u001b[38;5;241;43m-\u001b[39;49m\u001b[43mz_max\u001b[49m\u001b[43m,\u001b[49m\u001b[43m \u001b[49m\u001b[43mz_max\u001b[49m\u001b[43m)\u001b[49m\u001b[43m)\u001b[49m\n\u001b[1;32m     14\u001b[0m     \u001b[38;5;28;01mreturn\u001b[39;00m normal_distribution\n",
      "File \u001b[0;32m/opt/conda/lib/python3.10/site-packages/qiskit_finance/circuit/library/probability_distributions/normal.py:218\u001b[0m, in \u001b[0;36mNormalDistribution.__init__\u001b[0;34m(self, num_qubits, mu, sigma, bounds, upto_diag, name)\u001b[0m\n\u001b[1;32m    216\u001b[0m \u001b[38;5;28;01melse\u001b[39;00m:\n\u001b[1;32m    217\u001b[0m     initialize \u001b[38;5;241m=\u001b[39m Initialize(np\u001b[38;5;241m.\u001b[39msqrt(normalized_probabilities))\n\u001b[0;32m--> 218\u001b[0m     circuit \u001b[38;5;241m=\u001b[39m \u001b[43minitialize\u001b[49m\u001b[38;5;241;43m.\u001b[39;49m\u001b[43mgates_to_uncompute\u001b[49m\u001b[43m(\u001b[49m\u001b[43m)\u001b[49m\u001b[38;5;241m.\u001b[39minverse()\n\u001b[1;32m    219\u001b[0m     inner\u001b[38;5;241m.\u001b[39mcompose(circuit, inplace\u001b[38;5;241m=\u001b[39m\u001b[38;5;28;01mTrue\u001b[39;00m)\n\u001b[1;32m    220\u001b[0m     \u001b[38;5;28mself\u001b[39m\u001b[38;5;241m.\u001b[39mappend(inner\u001b[38;5;241m.\u001b[39mto_gate(), inner\u001b[38;5;241m.\u001b[39mqubits)\n",
      "File \u001b[0;32m/opt/conda/lib/python3.10/site-packages/qiskit/circuit/library/data_preparation/initializer.py:83\u001b[0m, in \u001b[0;36mInitialize.gates_to_uncompute\u001b[0;34m(self)\u001b[0m\n\u001b[1;32m     77\u001b[0m \u001b[38;5;28;01mdef\u001b[39;00m \u001b[38;5;21mgates_to_uncompute\u001b[39m(\u001b[38;5;28mself\u001b[39m) \u001b[38;5;241m-\u001b[39m\u001b[38;5;241m>\u001b[39m QuantumCircuit:\n\u001b[1;32m     78\u001b[0m \u001b[38;5;250m    \u001b[39m\u001b[38;5;124;03m\"\"\"Call to create a circuit with gates that take the desired vector to zero.\u001b[39;00m\n\u001b[1;32m     79\u001b[0m \n\u001b[1;32m     80\u001b[0m \u001b[38;5;124;03m    Returns:\u001b[39;00m\n\u001b[1;32m     81\u001b[0m \u001b[38;5;124;03m        Circuit to take ``self.params`` vector to :math:`|{00\\\\ldots0}\\\\rangle`\u001b[39;00m\n\u001b[1;32m     82\u001b[0m \u001b[38;5;124;03m    \"\"\"\u001b[39;00m\n\u001b[0;32m---> 83\u001b[0m     \u001b[38;5;28;01mreturn\u001b[39;00m \u001b[38;5;28;43mself\u001b[39;49m\u001b[38;5;241;43m.\u001b[39;49m\u001b[43m_stateprep\u001b[49m\u001b[38;5;241;43m.\u001b[39;49m\u001b[43m_gates_to_uncompute\u001b[49m\u001b[43m(\u001b[49m\u001b[43m)\u001b[49m\n",
      "File \u001b[0;32m/opt/conda/lib/python3.10/site-packages/qiskit/circuit/library/data_preparation/state_preparation.py:287\u001b[0m, in \u001b[0;36mStatePreparation._gates_to_uncompute\u001b[0;34m(self)\u001b[0m\n\u001b[1;32m    284\u001b[0m         circuit\u001b[38;5;241m.\u001b[39mappend(rz_mult\u001b[38;5;241m.\u001b[39mto_instruction(), q[i : \u001b[38;5;28mself\u001b[39m\u001b[38;5;241m.\u001b[39mnum_qubits])\n\u001b[1;32m    286\u001b[0m     \u001b[38;5;28;01mif\u001b[39;00m np\u001b[38;5;241m.\u001b[39mlinalg\u001b[38;5;241m.\u001b[39mnorm(thetas) \u001b[38;5;241m!=\u001b[39m \u001b[38;5;241m0\u001b[39m:\n\u001b[0;32m--> 287\u001b[0m         ry_mult \u001b[38;5;241m=\u001b[39m \u001b[38;5;28;43mself\u001b[39;49m\u001b[38;5;241;43m.\u001b[39;49m\u001b[43m_multiplex\u001b[49m\u001b[43m(\u001b[49m\u001b[43mRYGate\u001b[49m\u001b[43m,\u001b[49m\u001b[43m \u001b[49m\u001b[43mthetas\u001b[49m\u001b[43m,\u001b[49m\u001b[43m \u001b[49m\u001b[43mlast_cnot\u001b[49m\u001b[38;5;241;43m=\u001b[39;49m\u001b[43madd_last_cnot\u001b[49m\u001b[43m)\u001b[49m\n\u001b[1;32m    288\u001b[0m         circuit\u001b[38;5;241m.\u001b[39mappend(ry_mult\u001b[38;5;241m.\u001b[39mto_instruction()\u001b[38;5;241m.\u001b[39mreverse_ops(), q[i : \u001b[38;5;28mself\u001b[39m\u001b[38;5;241m.\u001b[39mnum_qubits])\n\u001b[1;32m    289\u001b[0m circuit\u001b[38;5;241m.\u001b[39mglobal_phase \u001b[38;5;241m-\u001b[39m\u001b[38;5;241m=\u001b[39m np\u001b[38;5;241m.\u001b[39mangle(\u001b[38;5;28msum\u001b[39m(remaining_param))\n",
      "File \u001b[0;32m/opt/conda/lib/python3.10/site-packages/qiskit/circuit/library/data_preparation/state_preparation.py:396\u001b[0m, in \u001b[0;36mStatePreparation._multiplex\u001b[0;34m(self, target_gate, list_of_angles, last_cnot)\u001b[0m\n\u001b[1;32m    393\u001b[0m list_of_angles \u001b[38;5;241m=\u001b[39m angle_weight\u001b[38;5;241m.\u001b[39mdot(np\u001b[38;5;241m.\u001b[39marray(list_of_angles))\u001b[38;5;241m.\u001b[39mtolist()\n\u001b[1;32m    395\u001b[0m \u001b[38;5;66;03m# recursive step on half the angles fulfilling the above assumption\u001b[39;00m\n\u001b[0;32m--> 396\u001b[0m multiplex_1 \u001b[38;5;241m=\u001b[39m \u001b[38;5;28;43mself\u001b[39;49m\u001b[38;5;241;43m.\u001b[39;49m\u001b[43m_multiplex\u001b[49m\u001b[43m(\u001b[49m\u001b[43mtarget_gate\u001b[49m\u001b[43m,\u001b[49m\u001b[43m \u001b[49m\u001b[43mlist_of_angles\u001b[49m\u001b[43m[\u001b[49m\u001b[38;5;241;43m0\u001b[39;49m\u001b[43m \u001b[49m\u001b[43m:\u001b[49m\u001b[43m \u001b[49m\u001b[43m(\u001b[49m\u001b[43mlist_len\u001b[49m\u001b[43m \u001b[49m\u001b[38;5;241;43m/\u001b[39;49m\u001b[38;5;241;43m/\u001b[39;49m\u001b[43m \u001b[49m\u001b[38;5;241;43m2\u001b[39;49m\u001b[43m)\u001b[49m\u001b[43m]\u001b[49m\u001b[43m,\u001b[49m\u001b[43m \u001b[49m\u001b[38;5;28;43;01mFalse\u001b[39;49;00m\u001b[43m)\u001b[49m\n\u001b[1;32m    397\u001b[0m circuit\u001b[38;5;241m.\u001b[39mappend(multiplex_1\u001b[38;5;241m.\u001b[39mto_instruction(), q[\u001b[38;5;241m0\u001b[39m:\u001b[38;5;241m-\u001b[39m\u001b[38;5;241m1\u001b[39m])\n\u001b[1;32m    399\u001b[0m \u001b[38;5;66;03m# attach CNOT as follows, thereby flipping the LSB qubit\u001b[39;00m\n",
      "File \u001b[0;32m/opt/conda/lib/python3.10/site-packages/qiskit/circuit/library/data_preparation/state_preparation.py:405\u001b[0m, in \u001b[0;36mStatePreparation._multiplex\u001b[0;34m(self, target_gate, list_of_angles, last_cnot)\u001b[0m\n\u001b[1;32m    400\u001b[0m circuit\u001b[38;5;241m.\u001b[39mappend(CXGate(), [msb, lsb])\n\u001b[1;32m    402\u001b[0m \u001b[38;5;66;03m# implement extra efficiency from the paper of cancelling adjacent\u001b[39;00m\n\u001b[1;32m    403\u001b[0m \u001b[38;5;66;03m# CNOTs (by leaving out last CNOT and reversing (NOT inverting) the\u001b[39;00m\n\u001b[1;32m    404\u001b[0m \u001b[38;5;66;03m# second lower-level multiplex)\u001b[39;00m\n\u001b[0;32m--> 405\u001b[0m multiplex_2 \u001b[38;5;241m=\u001b[39m \u001b[38;5;28;43mself\u001b[39;49m\u001b[38;5;241;43m.\u001b[39;49m\u001b[43m_multiplex\u001b[49m\u001b[43m(\u001b[49m\u001b[43mtarget_gate\u001b[49m\u001b[43m,\u001b[49m\u001b[43m \u001b[49m\u001b[43mlist_of_angles\u001b[49m\u001b[43m[\u001b[49m\u001b[43m(\u001b[49m\u001b[43mlist_len\u001b[49m\u001b[43m \u001b[49m\u001b[38;5;241;43m/\u001b[39;49m\u001b[38;5;241;43m/\u001b[39;49m\u001b[43m \u001b[49m\u001b[38;5;241;43m2\u001b[39;49m\u001b[43m)\u001b[49m\u001b[43m \u001b[49m\u001b[43m:\u001b[49m\u001b[43m]\u001b[49m\u001b[43m,\u001b[49m\u001b[43m \u001b[49m\u001b[38;5;28;43;01mFalse\u001b[39;49;00m\u001b[43m)\u001b[49m\n\u001b[1;32m    406\u001b[0m \u001b[38;5;28;01mif\u001b[39;00m list_len \u001b[38;5;241m>\u001b[39m \u001b[38;5;241m1\u001b[39m:\n\u001b[1;32m    407\u001b[0m     circuit\u001b[38;5;241m.\u001b[39mappend(multiplex_2\u001b[38;5;241m.\u001b[39mto_instruction()\u001b[38;5;241m.\u001b[39mreverse_ops(), q[\u001b[38;5;241m0\u001b[39m:\u001b[38;5;241m-\u001b[39m\u001b[38;5;241m1\u001b[39m])\n",
      "File \u001b[0;32m/opt/conda/lib/python3.10/site-packages/qiskit/circuit/library/data_preparation/state_preparation.py:407\u001b[0m, in \u001b[0;36mStatePreparation._multiplex\u001b[0;34m(self, target_gate, list_of_angles, last_cnot)\u001b[0m\n\u001b[1;32m    405\u001b[0m multiplex_2 \u001b[38;5;241m=\u001b[39m \u001b[38;5;28mself\u001b[39m\u001b[38;5;241m.\u001b[39m_multiplex(target_gate, list_of_angles[(list_len \u001b[38;5;241m/\u001b[39m\u001b[38;5;241m/\u001b[39m \u001b[38;5;241m2\u001b[39m) :], \u001b[38;5;28;01mFalse\u001b[39;00m)\n\u001b[1;32m    406\u001b[0m \u001b[38;5;28;01mif\u001b[39;00m list_len \u001b[38;5;241m>\u001b[39m \u001b[38;5;241m1\u001b[39m:\n\u001b[0;32m--> 407\u001b[0m     circuit\u001b[38;5;241m.\u001b[39mappend(\u001b[43mmultiplex_2\u001b[49m\u001b[38;5;241;43m.\u001b[39;49m\u001b[43mto_instruction\u001b[49m\u001b[43m(\u001b[49m\u001b[43m)\u001b[49m\u001b[38;5;241;43m.\u001b[39;49m\u001b[43mreverse_ops\u001b[49m\u001b[43m(\u001b[49m\u001b[43m)\u001b[49m, q[\u001b[38;5;241m0\u001b[39m:\u001b[38;5;241m-\u001b[39m\u001b[38;5;241m1\u001b[39m])\n\u001b[1;32m    408\u001b[0m \u001b[38;5;28;01melse\u001b[39;00m:\n\u001b[1;32m    409\u001b[0m     circuit\u001b[38;5;241m.\u001b[39mappend(multiplex_2\u001b[38;5;241m.\u001b[39mto_instruction(), q[\u001b[38;5;241m0\u001b[39m:\u001b[38;5;241m-\u001b[39m\u001b[38;5;241m1\u001b[39m])\n",
      "File \u001b[0;32m/opt/conda/lib/python3.10/site-packages/qiskit/circuit/instruction.py:418\u001b[0m, in \u001b[0;36mInstruction.reverse_ops\u001b[0;34m(self)\u001b[0m\n\u001b[1;32m    416\u001b[0m reversed_definition \u001b[38;5;241m=\u001b[39m \u001b[38;5;28mself\u001b[39m\u001b[38;5;241m.\u001b[39m_definition\u001b[38;5;241m.\u001b[39mcopy_empty_like()\n\u001b[1;32m    417\u001b[0m \u001b[38;5;28;01mfor\u001b[39;00m inst \u001b[38;5;129;01min\u001b[39;00m \u001b[38;5;28mreversed\u001b[39m(\u001b[38;5;28mself\u001b[39m\u001b[38;5;241m.\u001b[39m_definition):\n\u001b[0;32m--> 418\u001b[0m     reversed_definition\u001b[38;5;241m.\u001b[39mappend(\u001b[43minst\u001b[49m\u001b[38;5;241;43m.\u001b[39;49m\u001b[43moperation\u001b[49m\u001b[38;5;241;43m.\u001b[39;49m\u001b[43mreverse_ops\u001b[49m\u001b[43m(\u001b[49m\u001b[43m)\u001b[49m, inst\u001b[38;5;241m.\u001b[39mqubits, inst\u001b[38;5;241m.\u001b[39mclbits)\n\u001b[1;32m    419\u001b[0m reverse_inst\u001b[38;5;241m.\u001b[39mdefinition \u001b[38;5;241m=\u001b[39m reversed_definition\n\u001b[1;32m    420\u001b[0m \u001b[38;5;28;01mreturn\u001b[39;00m reverse_inst\n",
      "File \u001b[0;32m/opt/conda/lib/python3.10/site-packages/qiskit/circuit/instruction.py:418\u001b[0m, in \u001b[0;36mInstruction.reverse_ops\u001b[0;34m(self)\u001b[0m\n\u001b[1;32m    416\u001b[0m reversed_definition \u001b[38;5;241m=\u001b[39m \u001b[38;5;28mself\u001b[39m\u001b[38;5;241m.\u001b[39m_definition\u001b[38;5;241m.\u001b[39mcopy_empty_like()\n\u001b[1;32m    417\u001b[0m \u001b[38;5;28;01mfor\u001b[39;00m inst \u001b[38;5;129;01min\u001b[39;00m \u001b[38;5;28mreversed\u001b[39m(\u001b[38;5;28mself\u001b[39m\u001b[38;5;241m.\u001b[39m_definition):\n\u001b[0;32m--> 418\u001b[0m     reversed_definition\u001b[38;5;241m.\u001b[39mappend(\u001b[43minst\u001b[49m\u001b[38;5;241;43m.\u001b[39;49m\u001b[43moperation\u001b[49m\u001b[38;5;241;43m.\u001b[39;49m\u001b[43mreverse_ops\u001b[49m\u001b[43m(\u001b[49m\u001b[43m)\u001b[49m, inst\u001b[38;5;241m.\u001b[39mqubits, inst\u001b[38;5;241m.\u001b[39mclbits)\n\u001b[1;32m    419\u001b[0m reverse_inst\u001b[38;5;241m.\u001b[39mdefinition \u001b[38;5;241m=\u001b[39m reversed_definition\n\u001b[1;32m    420\u001b[0m \u001b[38;5;28;01mreturn\u001b[39;00m reverse_inst\n",
      "File \u001b[0;32m/opt/conda/lib/python3.10/site-packages/qiskit/circuit/instruction.py:415\u001b[0m, in \u001b[0;36mInstruction.reverse_ops\u001b[0;34m(self)\u001b[0m\n\u001b[1;32m    412\u001b[0m \u001b[38;5;28;01mif\u001b[39;00m \u001b[38;5;129;01mnot\u001b[39;00m \u001b[38;5;28mself\u001b[39m\u001b[38;5;241m.\u001b[39m_definition \u001b[38;5;129;01mor\u001b[39;00m \u001b[38;5;129;01mnot\u001b[39;00m \u001b[38;5;28mself\u001b[39m\u001b[38;5;241m.\u001b[39mmutable:\n\u001b[1;32m    413\u001b[0m     \u001b[38;5;28;01mreturn\u001b[39;00m \u001b[38;5;28mself\u001b[39m\u001b[38;5;241m.\u001b[39mcopy()\n\u001b[0;32m--> 415\u001b[0m reverse_inst \u001b[38;5;241m=\u001b[39m \u001b[38;5;28;43mself\u001b[39;49m\u001b[38;5;241;43m.\u001b[39;49m\u001b[43mcopy\u001b[49m\u001b[43m(\u001b[49m\u001b[43mname\u001b[49m\u001b[38;5;241;43m=\u001b[39;49m\u001b[38;5;28;43mself\u001b[39;49m\u001b[38;5;241;43m.\u001b[39;49m\u001b[43mname\u001b[49m\u001b[43m \u001b[49m\u001b[38;5;241;43m+\u001b[39;49m\u001b[43m \u001b[49m\u001b[38;5;124;43m\"\u001b[39;49m\u001b[38;5;124;43m_reverse\u001b[39;49m\u001b[38;5;124;43m\"\u001b[39;49m\u001b[43m)\u001b[49m\n\u001b[1;32m    416\u001b[0m reversed_definition \u001b[38;5;241m=\u001b[39m \u001b[38;5;28mself\u001b[39m\u001b[38;5;241m.\u001b[39m_definition\u001b[38;5;241m.\u001b[39mcopy_empty_like()\n\u001b[1;32m    417\u001b[0m \u001b[38;5;28;01mfor\u001b[39;00m inst \u001b[38;5;129;01min\u001b[39;00m \u001b[38;5;28mreversed\u001b[39m(\u001b[38;5;28mself\u001b[39m\u001b[38;5;241m.\u001b[39m_definition):\n",
      "File \u001b[0;32m/opt/conda/lib/python3.10/site-packages/qiskit/circuit/instruction.py:510\u001b[0m, in \u001b[0;36mInstruction.copy\u001b[0;34m(self, name)\u001b[0m\n\u001b[1;32m    499\u001b[0m \u001b[38;5;28;01mdef\u001b[39;00m \u001b[38;5;21mcopy\u001b[39m(\u001b[38;5;28mself\u001b[39m, name\u001b[38;5;241m=\u001b[39m\u001b[38;5;28;01mNone\u001b[39;00m):\n\u001b[1;32m    500\u001b[0m \u001b[38;5;250m    \u001b[39m\u001b[38;5;124;03m\"\"\"\u001b[39;00m\n\u001b[1;32m    501\u001b[0m \u001b[38;5;124;03m    Copy of the instruction.\u001b[39;00m\n\u001b[1;32m    502\u001b[0m \n\u001b[0;32m   (...)\u001b[0m\n\u001b[1;32m    508\u001b[0m \u001b[38;5;124;03m        was provided\u001b[39;00m\n\u001b[1;32m    509\u001b[0m \u001b[38;5;124;03m    \"\"\"\u001b[39;00m\n\u001b[0;32m--> 510\u001b[0m     cpy \u001b[38;5;241m=\u001b[39m \u001b[38;5;28;43mself\u001b[39;49m\u001b[38;5;241;43m.\u001b[39;49m\u001b[43m__deepcopy__\u001b[49m\u001b[43m(\u001b[49m\u001b[43m)\u001b[49m\n\u001b[1;32m    512\u001b[0m     \u001b[38;5;28;01mif\u001b[39;00m name:\n\u001b[1;32m    513\u001b[0m         cpy\u001b[38;5;241m.\u001b[39mname \u001b[38;5;241m=\u001b[39m name\n",
      "File \u001b[0;32m/opt/conda/lib/python3.10/site-packages/qiskit/circuit/instruction.py:520\u001b[0m, in \u001b[0;36mInstruction.__deepcopy__\u001b[0;34m(self, memo)\u001b[0m\n\u001b[1;32m    518\u001b[0m cpy\u001b[38;5;241m.\u001b[39m_params \u001b[38;5;241m=\u001b[39m copy\u001b[38;5;241m.\u001b[39mcopy(\u001b[38;5;28mself\u001b[39m\u001b[38;5;241m.\u001b[39m_params)\n\u001b[1;32m    519\u001b[0m \u001b[38;5;28;01mif\u001b[39;00m \u001b[38;5;28mself\u001b[39m\u001b[38;5;241m.\u001b[39m_definition:\n\u001b[0;32m--> 520\u001b[0m     cpy\u001b[38;5;241m.\u001b[39m_definition \u001b[38;5;241m=\u001b[39m \u001b[43mcopy\u001b[49m\u001b[38;5;241;43m.\u001b[39;49m\u001b[43mdeepcopy\u001b[49m\u001b[43m(\u001b[49m\u001b[38;5;28;43mself\u001b[39;49m\u001b[38;5;241;43m.\u001b[39;49m\u001b[43m_definition\u001b[49m\u001b[43m,\u001b[49m\u001b[43m \u001b[49m\u001b[43mmemo\u001b[49m\u001b[43m)\u001b[49m\n\u001b[1;32m    521\u001b[0m \u001b[38;5;28;01mreturn\u001b[39;00m cpy\n",
      "File \u001b[0;32m/opt/conda/lib/python3.10/copy.py:153\u001b[0m, in \u001b[0;36mdeepcopy\u001b[0;34m(x, memo, _nil)\u001b[0m\n\u001b[1;32m    151\u001b[0m copier \u001b[38;5;241m=\u001b[39m \u001b[38;5;28mgetattr\u001b[39m(x, \u001b[38;5;124m\"\u001b[39m\u001b[38;5;124m__deepcopy__\u001b[39m\u001b[38;5;124m\"\u001b[39m, \u001b[38;5;28;01mNone\u001b[39;00m)\n\u001b[1;32m    152\u001b[0m \u001b[38;5;28;01mif\u001b[39;00m copier \u001b[38;5;129;01mis\u001b[39;00m \u001b[38;5;129;01mnot\u001b[39;00m \u001b[38;5;28;01mNone\u001b[39;00m:\n\u001b[0;32m--> 153\u001b[0m     y \u001b[38;5;241m=\u001b[39m \u001b[43mcopier\u001b[49m\u001b[43m(\u001b[49m\u001b[43mmemo\u001b[49m\u001b[43m)\u001b[49m\n\u001b[1;32m    154\u001b[0m \u001b[38;5;28;01melse\u001b[39;00m:\n\u001b[1;32m    155\u001b[0m     reductor \u001b[38;5;241m=\u001b[39m dispatch_table\u001b[38;5;241m.\u001b[39mget(\u001b[38;5;28mcls\u001b[39m)\n",
      "File \u001b[0;32m/opt/conda/lib/python3.10/site-packages/qiskit/circuit/quantumcircuit.py:511\u001b[0m, in \u001b[0;36mQuantumCircuit.__deepcopy__\u001b[0;34m(self, memo)\u001b[0m\n\u001b[1;32m    506\u001b[0m result\u001b[38;5;241m.\u001b[39m_data \u001b[38;5;241m=\u001b[39m \u001b[38;5;28mself\u001b[39m\u001b[38;5;241m.\u001b[39m_data\u001b[38;5;241m.\u001b[39mcopy()\n\u001b[1;32m    507\u001b[0m result\u001b[38;5;241m.\u001b[39m_data\u001b[38;5;241m.\u001b[39mreplace_bits(\n\u001b[1;32m    508\u001b[0m     qubits\u001b[38;5;241m=\u001b[39mcopy\u001b[38;5;241m.\u001b[39mdeepcopy(\u001b[38;5;28mself\u001b[39m\u001b[38;5;241m.\u001b[39m_data\u001b[38;5;241m.\u001b[39mqubits, memo),\n\u001b[1;32m    509\u001b[0m     clbits\u001b[38;5;241m=\u001b[39mcopy\u001b[38;5;241m.\u001b[39mdeepcopy(\u001b[38;5;28mself\u001b[39m\u001b[38;5;241m.\u001b[39m_data\u001b[38;5;241m.\u001b[39mclbits, memo),\n\u001b[1;32m    510\u001b[0m )\n\u001b[0;32m--> 511\u001b[0m \u001b[43mresult\u001b[49m\u001b[38;5;241;43m.\u001b[39;49m\u001b[43m_data\u001b[49m\u001b[38;5;241;43m.\u001b[39;49m\u001b[43mmap_ops\u001b[49m\u001b[43m(\u001b[49m\u001b[38;5;28;43;01mlambda\u001b[39;49;00m\u001b[43m \u001b[49m\u001b[43mop\u001b[49m\u001b[43m:\u001b[49m\u001b[43m \u001b[49m\u001b[43mcopy\u001b[49m\u001b[38;5;241;43m.\u001b[39;49m\u001b[43mdeepcopy\u001b[49m\u001b[43m(\u001b[49m\u001b[43mop\u001b[49m\u001b[43m,\u001b[49m\u001b[43m \u001b[49m\u001b[43mmemo\u001b[49m\u001b[43m)\u001b[49m\u001b[43m)\u001b[49m\n\u001b[1;32m    512\u001b[0m \u001b[38;5;28;01mreturn\u001b[39;00m result\n",
      "File \u001b[0;32m/opt/conda/lib/python3.10/site-packages/qiskit/circuit/quantumcircuit.py:511\u001b[0m, in \u001b[0;36mQuantumCircuit.__deepcopy__.<locals>.<lambda>\u001b[0;34m(op)\u001b[0m\n\u001b[1;32m    506\u001b[0m result\u001b[38;5;241m.\u001b[39m_data \u001b[38;5;241m=\u001b[39m \u001b[38;5;28mself\u001b[39m\u001b[38;5;241m.\u001b[39m_data\u001b[38;5;241m.\u001b[39mcopy()\n\u001b[1;32m    507\u001b[0m result\u001b[38;5;241m.\u001b[39m_data\u001b[38;5;241m.\u001b[39mreplace_bits(\n\u001b[1;32m    508\u001b[0m     qubits\u001b[38;5;241m=\u001b[39mcopy\u001b[38;5;241m.\u001b[39mdeepcopy(\u001b[38;5;28mself\u001b[39m\u001b[38;5;241m.\u001b[39m_data\u001b[38;5;241m.\u001b[39mqubits, memo),\n\u001b[1;32m    509\u001b[0m     clbits\u001b[38;5;241m=\u001b[39mcopy\u001b[38;5;241m.\u001b[39mdeepcopy(\u001b[38;5;28mself\u001b[39m\u001b[38;5;241m.\u001b[39m_data\u001b[38;5;241m.\u001b[39mclbits, memo),\n\u001b[1;32m    510\u001b[0m )\n\u001b[0;32m--> 511\u001b[0m result\u001b[38;5;241m.\u001b[39m_data\u001b[38;5;241m.\u001b[39mmap_ops(\u001b[38;5;28;01mlambda\u001b[39;00m op: \u001b[43mcopy\u001b[49m\u001b[38;5;241;43m.\u001b[39;49m\u001b[43mdeepcopy\u001b[49m\u001b[43m(\u001b[49m\u001b[43mop\u001b[49m\u001b[43m,\u001b[49m\u001b[43m \u001b[49m\u001b[43mmemo\u001b[49m\u001b[43m)\u001b[49m)\n\u001b[1;32m    512\u001b[0m \u001b[38;5;28;01mreturn\u001b[39;00m result\n",
      "File \u001b[0;32m/opt/conda/lib/python3.10/copy.py:153\u001b[0m, in \u001b[0;36mdeepcopy\u001b[0;34m(x, memo, _nil)\u001b[0m\n\u001b[1;32m    151\u001b[0m copier \u001b[38;5;241m=\u001b[39m \u001b[38;5;28mgetattr\u001b[39m(x, \u001b[38;5;124m\"\u001b[39m\u001b[38;5;124m__deepcopy__\u001b[39m\u001b[38;5;124m\"\u001b[39m, \u001b[38;5;28;01mNone\u001b[39;00m)\n\u001b[1;32m    152\u001b[0m \u001b[38;5;28;01mif\u001b[39;00m copier \u001b[38;5;129;01mis\u001b[39;00m \u001b[38;5;129;01mnot\u001b[39;00m \u001b[38;5;28;01mNone\u001b[39;00m:\n\u001b[0;32m--> 153\u001b[0m     y \u001b[38;5;241m=\u001b[39m \u001b[43mcopier\u001b[49m\u001b[43m(\u001b[49m\u001b[43mmemo\u001b[49m\u001b[43m)\u001b[49m\n\u001b[1;32m    154\u001b[0m \u001b[38;5;28;01melse\u001b[39;00m:\n\u001b[1;32m    155\u001b[0m     reductor \u001b[38;5;241m=\u001b[39m dispatch_table\u001b[38;5;241m.\u001b[39mget(\u001b[38;5;28mcls\u001b[39m)\n",
      "File \u001b[0;32m/opt/conda/lib/python3.10/site-packages/qiskit/circuit/instruction.py:520\u001b[0m, in \u001b[0;36mInstruction.__deepcopy__\u001b[0;34m(self, memo)\u001b[0m\n\u001b[1;32m    518\u001b[0m cpy\u001b[38;5;241m.\u001b[39m_params \u001b[38;5;241m=\u001b[39m copy\u001b[38;5;241m.\u001b[39mcopy(\u001b[38;5;28mself\u001b[39m\u001b[38;5;241m.\u001b[39m_params)\n\u001b[1;32m    519\u001b[0m \u001b[38;5;28;01mif\u001b[39;00m \u001b[38;5;28mself\u001b[39m\u001b[38;5;241m.\u001b[39m_definition:\n\u001b[0;32m--> 520\u001b[0m     cpy\u001b[38;5;241m.\u001b[39m_definition \u001b[38;5;241m=\u001b[39m \u001b[43mcopy\u001b[49m\u001b[38;5;241;43m.\u001b[39;49m\u001b[43mdeepcopy\u001b[49m\u001b[43m(\u001b[49m\u001b[38;5;28;43mself\u001b[39;49m\u001b[38;5;241;43m.\u001b[39;49m\u001b[43m_definition\u001b[49m\u001b[43m,\u001b[49m\u001b[43m \u001b[49m\u001b[43mmemo\u001b[49m\u001b[43m)\u001b[49m\n\u001b[1;32m    521\u001b[0m \u001b[38;5;28;01mreturn\u001b[39;00m cpy\n",
      "    \u001b[0;31m[... skipping similar frames: deepcopy at line 153 (1 times)]\u001b[0m\n",
      "File \u001b[0;32m/opt/conda/lib/python3.10/site-packages/qiskit/circuit/quantumcircuit.py:511\u001b[0m, in \u001b[0;36mQuantumCircuit.__deepcopy__\u001b[0;34m(self, memo)\u001b[0m\n\u001b[1;32m    506\u001b[0m result\u001b[38;5;241m.\u001b[39m_data \u001b[38;5;241m=\u001b[39m \u001b[38;5;28mself\u001b[39m\u001b[38;5;241m.\u001b[39m_data\u001b[38;5;241m.\u001b[39mcopy()\n\u001b[1;32m    507\u001b[0m result\u001b[38;5;241m.\u001b[39m_data\u001b[38;5;241m.\u001b[39mreplace_bits(\n\u001b[1;32m    508\u001b[0m     qubits\u001b[38;5;241m=\u001b[39mcopy\u001b[38;5;241m.\u001b[39mdeepcopy(\u001b[38;5;28mself\u001b[39m\u001b[38;5;241m.\u001b[39m_data\u001b[38;5;241m.\u001b[39mqubits, memo),\n\u001b[1;32m    509\u001b[0m     clbits\u001b[38;5;241m=\u001b[39mcopy\u001b[38;5;241m.\u001b[39mdeepcopy(\u001b[38;5;28mself\u001b[39m\u001b[38;5;241m.\u001b[39m_data\u001b[38;5;241m.\u001b[39mclbits, memo),\n\u001b[1;32m    510\u001b[0m )\n\u001b[0;32m--> 511\u001b[0m \u001b[43mresult\u001b[49m\u001b[38;5;241;43m.\u001b[39;49m\u001b[43m_data\u001b[49m\u001b[38;5;241;43m.\u001b[39;49m\u001b[43mmap_ops\u001b[49m\u001b[43m(\u001b[49m\u001b[38;5;28;43;01mlambda\u001b[39;49;00m\u001b[43m \u001b[49m\u001b[43mop\u001b[49m\u001b[43m:\u001b[49m\u001b[43m \u001b[49m\u001b[43mcopy\u001b[49m\u001b[38;5;241;43m.\u001b[39;49m\u001b[43mdeepcopy\u001b[49m\u001b[43m(\u001b[49m\u001b[43mop\u001b[49m\u001b[43m,\u001b[49m\u001b[43m \u001b[49m\u001b[43mmemo\u001b[49m\u001b[43m)\u001b[49m\u001b[43m)\u001b[49m\n\u001b[1;32m    512\u001b[0m \u001b[38;5;28;01mreturn\u001b[39;00m result\n",
      "File \u001b[0;32m/opt/conda/lib/python3.10/site-packages/qiskit/circuit/quantumcircuit.py:511\u001b[0m, in \u001b[0;36mQuantumCircuit.__deepcopy__.<locals>.<lambda>\u001b[0;34m(op)\u001b[0m\n\u001b[1;32m    506\u001b[0m result\u001b[38;5;241m.\u001b[39m_data \u001b[38;5;241m=\u001b[39m \u001b[38;5;28mself\u001b[39m\u001b[38;5;241m.\u001b[39m_data\u001b[38;5;241m.\u001b[39mcopy()\n\u001b[1;32m    507\u001b[0m result\u001b[38;5;241m.\u001b[39m_data\u001b[38;5;241m.\u001b[39mreplace_bits(\n\u001b[1;32m    508\u001b[0m     qubits\u001b[38;5;241m=\u001b[39mcopy\u001b[38;5;241m.\u001b[39mdeepcopy(\u001b[38;5;28mself\u001b[39m\u001b[38;5;241m.\u001b[39m_data\u001b[38;5;241m.\u001b[39mqubits, memo),\n\u001b[1;32m    509\u001b[0m     clbits\u001b[38;5;241m=\u001b[39mcopy\u001b[38;5;241m.\u001b[39mdeepcopy(\u001b[38;5;28mself\u001b[39m\u001b[38;5;241m.\u001b[39m_data\u001b[38;5;241m.\u001b[39mclbits, memo),\n\u001b[1;32m    510\u001b[0m )\n\u001b[0;32m--> 511\u001b[0m result\u001b[38;5;241m.\u001b[39m_data\u001b[38;5;241m.\u001b[39mmap_ops(\u001b[38;5;28;01mlambda\u001b[39;00m op: \u001b[43mcopy\u001b[49m\u001b[38;5;241;43m.\u001b[39;49m\u001b[43mdeepcopy\u001b[49m\u001b[43m(\u001b[49m\u001b[43mop\u001b[49m\u001b[43m,\u001b[49m\u001b[43m \u001b[49m\u001b[43mmemo\u001b[49m\u001b[43m)\u001b[49m)\n\u001b[1;32m    512\u001b[0m \u001b[38;5;28;01mreturn\u001b[39;00m result\n",
      "    \u001b[0;31m[... skipping similar frames: deepcopy at line 153 (4 times), Instruction.__deepcopy__ at line 520 (2 times), QuantumCircuit.__deepcopy__.<locals>.<lambda> at line 511 (1 times), QuantumCircuit.__deepcopy__ at line 511 (1 times)]\u001b[0m\n",
      "File \u001b[0;32m/opt/conda/lib/python3.10/site-packages/qiskit/circuit/quantumcircuit.py:511\u001b[0m, in \u001b[0;36mQuantumCircuit.__deepcopy__\u001b[0;34m(self, memo)\u001b[0m\n\u001b[1;32m    506\u001b[0m result\u001b[38;5;241m.\u001b[39m_data \u001b[38;5;241m=\u001b[39m \u001b[38;5;28mself\u001b[39m\u001b[38;5;241m.\u001b[39m_data\u001b[38;5;241m.\u001b[39mcopy()\n\u001b[1;32m    507\u001b[0m result\u001b[38;5;241m.\u001b[39m_data\u001b[38;5;241m.\u001b[39mreplace_bits(\n\u001b[1;32m    508\u001b[0m     qubits\u001b[38;5;241m=\u001b[39mcopy\u001b[38;5;241m.\u001b[39mdeepcopy(\u001b[38;5;28mself\u001b[39m\u001b[38;5;241m.\u001b[39m_data\u001b[38;5;241m.\u001b[39mqubits, memo),\n\u001b[1;32m    509\u001b[0m     clbits\u001b[38;5;241m=\u001b[39mcopy\u001b[38;5;241m.\u001b[39mdeepcopy(\u001b[38;5;28mself\u001b[39m\u001b[38;5;241m.\u001b[39m_data\u001b[38;5;241m.\u001b[39mclbits, memo),\n\u001b[1;32m    510\u001b[0m )\n\u001b[0;32m--> 511\u001b[0m \u001b[43mresult\u001b[49m\u001b[38;5;241;43m.\u001b[39;49m\u001b[43m_data\u001b[49m\u001b[38;5;241;43m.\u001b[39;49m\u001b[43mmap_ops\u001b[49m\u001b[43m(\u001b[49m\u001b[38;5;28;43;01mlambda\u001b[39;49;00m\u001b[43m \u001b[49m\u001b[43mop\u001b[49m\u001b[43m:\u001b[49m\u001b[43m \u001b[49m\u001b[43mcopy\u001b[49m\u001b[38;5;241;43m.\u001b[39;49m\u001b[43mdeepcopy\u001b[49m\u001b[43m(\u001b[49m\u001b[43mop\u001b[49m\u001b[43m,\u001b[49m\u001b[43m \u001b[49m\u001b[43mmemo\u001b[49m\u001b[43m)\u001b[49m\u001b[43m)\u001b[49m\n\u001b[1;32m    512\u001b[0m \u001b[38;5;28;01mreturn\u001b[39;00m result\n",
      "File \u001b[0;32m/opt/conda/lib/python3.10/site-packages/qiskit/circuit/quantumcircuit.py:511\u001b[0m, in \u001b[0;36mQuantumCircuit.__deepcopy__.<locals>.<lambda>\u001b[0;34m(op)\u001b[0m\n\u001b[1;32m    506\u001b[0m result\u001b[38;5;241m.\u001b[39m_data \u001b[38;5;241m=\u001b[39m \u001b[38;5;28mself\u001b[39m\u001b[38;5;241m.\u001b[39m_data\u001b[38;5;241m.\u001b[39mcopy()\n\u001b[1;32m    507\u001b[0m result\u001b[38;5;241m.\u001b[39m_data\u001b[38;5;241m.\u001b[39mreplace_bits(\n\u001b[1;32m    508\u001b[0m     qubits\u001b[38;5;241m=\u001b[39mcopy\u001b[38;5;241m.\u001b[39mdeepcopy(\u001b[38;5;28mself\u001b[39m\u001b[38;5;241m.\u001b[39m_data\u001b[38;5;241m.\u001b[39mqubits, memo),\n\u001b[1;32m    509\u001b[0m     clbits\u001b[38;5;241m=\u001b[39mcopy\u001b[38;5;241m.\u001b[39mdeepcopy(\u001b[38;5;28mself\u001b[39m\u001b[38;5;241m.\u001b[39m_data\u001b[38;5;241m.\u001b[39mclbits, memo),\n\u001b[1;32m    510\u001b[0m )\n\u001b[0;32m--> 511\u001b[0m result\u001b[38;5;241m.\u001b[39m_data\u001b[38;5;241m.\u001b[39mmap_ops(\u001b[38;5;28;01mlambda\u001b[39;00m op: \u001b[43mcopy\u001b[49m\u001b[38;5;241;43m.\u001b[39;49m\u001b[43mdeepcopy\u001b[49m\u001b[43m(\u001b[49m\u001b[43mop\u001b[49m\u001b[43m,\u001b[49m\u001b[43m \u001b[49m\u001b[43mmemo\u001b[49m\u001b[43m)\u001b[49m)\n\u001b[1;32m    512\u001b[0m \u001b[38;5;28;01mreturn\u001b[39;00m result\n",
      "    \u001b[0;31m[... skipping similar frames: deepcopy at line 153 (1 times)]\u001b[0m\n",
      "File \u001b[0;32m/opt/conda/lib/python3.10/site-packages/qiskit/circuit/instruction.py:520\u001b[0m, in \u001b[0;36mInstruction.__deepcopy__\u001b[0;34m(self, memo)\u001b[0m\n\u001b[1;32m    518\u001b[0m cpy\u001b[38;5;241m.\u001b[39m_params \u001b[38;5;241m=\u001b[39m copy\u001b[38;5;241m.\u001b[39mcopy(\u001b[38;5;28mself\u001b[39m\u001b[38;5;241m.\u001b[39m_params)\n\u001b[1;32m    519\u001b[0m \u001b[38;5;28;01mif\u001b[39;00m \u001b[38;5;28mself\u001b[39m\u001b[38;5;241m.\u001b[39m_definition:\n\u001b[0;32m--> 520\u001b[0m     cpy\u001b[38;5;241m.\u001b[39m_definition \u001b[38;5;241m=\u001b[39m \u001b[43mcopy\u001b[49m\u001b[38;5;241;43m.\u001b[39;49m\u001b[43mdeepcopy\u001b[49m\u001b[43m(\u001b[49m\u001b[38;5;28;43mself\u001b[39;49m\u001b[38;5;241;43m.\u001b[39;49m\u001b[43m_definition\u001b[49m\u001b[43m,\u001b[49m\u001b[43m \u001b[49m\u001b[43mmemo\u001b[49m\u001b[43m)\u001b[49m\n\u001b[1;32m    521\u001b[0m \u001b[38;5;28;01mreturn\u001b[39;00m cpy\n",
      "File \u001b[0;32m/opt/conda/lib/python3.10/copy.py:153\u001b[0m, in \u001b[0;36mdeepcopy\u001b[0;34m(x, memo, _nil)\u001b[0m\n\u001b[1;32m    151\u001b[0m copier \u001b[38;5;241m=\u001b[39m \u001b[38;5;28mgetattr\u001b[39m(x, \u001b[38;5;124m\"\u001b[39m\u001b[38;5;124m__deepcopy__\u001b[39m\u001b[38;5;124m\"\u001b[39m, \u001b[38;5;28;01mNone\u001b[39;00m)\n\u001b[1;32m    152\u001b[0m \u001b[38;5;28;01mif\u001b[39;00m copier \u001b[38;5;129;01mis\u001b[39;00m \u001b[38;5;129;01mnot\u001b[39;00m \u001b[38;5;28;01mNone\u001b[39;00m:\n\u001b[0;32m--> 153\u001b[0m     y \u001b[38;5;241m=\u001b[39m \u001b[43mcopier\u001b[49m\u001b[43m(\u001b[49m\u001b[43mmemo\u001b[49m\u001b[43m)\u001b[49m\n\u001b[1;32m    154\u001b[0m \u001b[38;5;28;01melse\u001b[39;00m:\n\u001b[1;32m    155\u001b[0m     reductor \u001b[38;5;241m=\u001b[39m dispatch_table\u001b[38;5;241m.\u001b[39mget(\u001b[38;5;28mcls\u001b[39m)\n",
      "File \u001b[0;32m/opt/conda/lib/python3.10/site-packages/qiskit/circuit/quantumcircuit.py:500\u001b[0m, in \u001b[0;36mQuantumCircuit.__deepcopy__\u001b[0;34m(self, memo)\u001b[0m\n\u001b[1;32m    498\u001b[0m result \u001b[38;5;241m=\u001b[39m \u001b[38;5;28mcls\u001b[39m\u001b[38;5;241m.\u001b[39m\u001b[38;5;21m__new__\u001b[39m(\u001b[38;5;28mcls\u001b[39m)\n\u001b[1;32m    499\u001b[0m \u001b[38;5;28;01mfor\u001b[39;00m k \u001b[38;5;129;01min\u001b[39;00m \u001b[38;5;28mself\u001b[39m\u001b[38;5;241m.\u001b[39m\u001b[38;5;18m__dict__\u001b[39m\u001b[38;5;241m.\u001b[39mkeys() \u001b[38;5;241m-\u001b[39m {\u001b[38;5;124m\"\u001b[39m\u001b[38;5;124m_data\u001b[39m\u001b[38;5;124m\"\u001b[39m, \u001b[38;5;124m\"\u001b[39m\u001b[38;5;124m_builder_api\u001b[39m\u001b[38;5;124m\"\u001b[39m}:\n\u001b[0;32m--> 500\u001b[0m     \u001b[38;5;28msetattr\u001b[39m(result, k, \u001b[43mcopy\u001b[49m\u001b[38;5;241;43m.\u001b[39;49m\u001b[43mdeepcopy\u001b[49m\u001b[43m(\u001b[49m\u001b[38;5;28;43mself\u001b[39;49m\u001b[38;5;241;43m.\u001b[39;49m\u001b[38;5;18;43m__dict__\u001b[39;49m\u001b[43m[\u001b[49m\u001b[43mk\u001b[49m\u001b[43m]\u001b[49m\u001b[43m,\u001b[49m\u001b[43m \u001b[49m\u001b[43mmemo\u001b[49m\u001b[43m)\u001b[49m)\n\u001b[1;32m    502\u001b[0m result\u001b[38;5;241m.\u001b[39m_builder_api \u001b[38;5;241m=\u001b[39m _OuterCircuitScopeInterface(result)\n\u001b[1;32m    504\u001b[0m \u001b[38;5;66;03m# Avoids pulling self._data into a Python list\u001b[39;00m\n\u001b[1;32m    505\u001b[0m \u001b[38;5;66;03m# like we would when pickling.\u001b[39;00m\n",
      "File \u001b[0;32m/opt/conda/lib/python3.10/copy.py:146\u001b[0m, in \u001b[0;36mdeepcopy\u001b[0;34m(x, memo, _nil)\u001b[0m\n\u001b[1;32m    144\u001b[0m copier \u001b[38;5;241m=\u001b[39m _deepcopy_dispatch\u001b[38;5;241m.\u001b[39mget(\u001b[38;5;28mcls\u001b[39m)\n\u001b[1;32m    145\u001b[0m \u001b[38;5;28;01mif\u001b[39;00m copier \u001b[38;5;129;01mis\u001b[39;00m \u001b[38;5;129;01mnot\u001b[39;00m \u001b[38;5;28;01mNone\u001b[39;00m:\n\u001b[0;32m--> 146\u001b[0m     y \u001b[38;5;241m=\u001b[39m \u001b[43mcopier\u001b[49m\u001b[43m(\u001b[49m\u001b[43mx\u001b[49m\u001b[43m,\u001b[49m\u001b[43m \u001b[49m\u001b[43mmemo\u001b[49m\u001b[43m)\u001b[49m\n\u001b[1;32m    147\u001b[0m \u001b[38;5;28;01melse\u001b[39;00m:\n\u001b[1;32m    148\u001b[0m     \u001b[38;5;28;01mif\u001b[39;00m \u001b[38;5;28missubclass\u001b[39m(\u001b[38;5;28mcls\u001b[39m, \u001b[38;5;28mtype\u001b[39m):\n",
      "File \u001b[0;32m/opt/conda/lib/python3.10/copy.py:231\u001b[0m, in \u001b[0;36m_deepcopy_dict\u001b[0;34m(x, memo, deepcopy)\u001b[0m\n\u001b[1;32m    229\u001b[0m memo[\u001b[38;5;28mid\u001b[39m(x)] \u001b[38;5;241m=\u001b[39m y\n\u001b[1;32m    230\u001b[0m \u001b[38;5;28;01mfor\u001b[39;00m key, value \u001b[38;5;129;01min\u001b[39;00m x\u001b[38;5;241m.\u001b[39mitems():\n\u001b[0;32m--> 231\u001b[0m     y[deepcopy(key, memo)] \u001b[38;5;241m=\u001b[39m \u001b[43mdeepcopy\u001b[49m\u001b[43m(\u001b[49m\u001b[43mvalue\u001b[49m\u001b[43m,\u001b[49m\u001b[43m \u001b[49m\u001b[43mmemo\u001b[49m\u001b[43m)\u001b[49m\n\u001b[1;32m    232\u001b[0m \u001b[38;5;28;01mreturn\u001b[39;00m y\n",
      "File \u001b[0;32m/opt/conda/lib/python3.10/copy.py:161\u001b[0m, in \u001b[0;36mdeepcopy\u001b[0;34m(x, memo, _nil)\u001b[0m\n\u001b[1;32m    159\u001b[0m reductor \u001b[38;5;241m=\u001b[39m \u001b[38;5;28mgetattr\u001b[39m(x, \u001b[38;5;124m\"\u001b[39m\u001b[38;5;124m__reduce_ex__\u001b[39m\u001b[38;5;124m\"\u001b[39m, \u001b[38;5;28;01mNone\u001b[39;00m)\n\u001b[1;32m    160\u001b[0m \u001b[38;5;28;01mif\u001b[39;00m reductor \u001b[38;5;129;01mis\u001b[39;00m \u001b[38;5;129;01mnot\u001b[39;00m \u001b[38;5;28;01mNone\u001b[39;00m:\n\u001b[0;32m--> 161\u001b[0m     rv \u001b[38;5;241m=\u001b[39m \u001b[43mreductor\u001b[49m\u001b[43m(\u001b[49m\u001b[38;5;241;43m4\u001b[39;49m\u001b[43m)\u001b[49m\n\u001b[1;32m    162\u001b[0m \u001b[38;5;28;01melse\u001b[39;00m:\n\u001b[1;32m    163\u001b[0m     reductor \u001b[38;5;241m=\u001b[39m \u001b[38;5;28mgetattr\u001b[39m(x, \u001b[38;5;124m\"\u001b[39m\u001b[38;5;124m__reduce__\u001b[39m\u001b[38;5;124m\"\u001b[39m, \u001b[38;5;28;01mNone\u001b[39;00m)\n",
      "File \u001b[0;32m/opt/conda/lib/python3.10/collections/__init__.py:447\u001b[0m, in \u001b[0;36mnamedtuple.<locals>.__getnewargs__\u001b[0;34m(self)\u001b[0m\n\u001b[1;32m    444\u001b[0m     \u001b[38;5;124m'\u001b[39m\u001b[38;5;124mReturn a new dict which maps field names to their values.\u001b[39m\u001b[38;5;124m'\u001b[39m\n\u001b[1;32m    445\u001b[0m     \u001b[38;5;28;01mreturn\u001b[39;00m _dict(_zip(\u001b[38;5;28mself\u001b[39m\u001b[38;5;241m.\u001b[39m_fields, \u001b[38;5;28mself\u001b[39m))\n\u001b[0;32m--> 447\u001b[0m \u001b[38;5;28;01mdef\u001b[39;00m \u001b[38;5;21m__getnewargs__\u001b[39m(\u001b[38;5;28mself\u001b[39m):\n\u001b[1;32m    448\u001b[0m     \u001b[38;5;124m'\u001b[39m\u001b[38;5;124mReturn self as a plain tuple.  Used by copy and pickle.\u001b[39m\u001b[38;5;124m'\u001b[39m\n\u001b[1;32m    449\u001b[0m     \u001b[38;5;28;01mreturn\u001b[39;00m _tuple(\u001b[38;5;28mself\u001b[39m)\n",
      "\u001b[0;31mKeyboardInterrupt\u001b[0m: "
     ]
    }
   ],
   "source": [
    "# /tket\n",
    "import matplotlib.pyplot as plt\n",
    "    \n",
    "plt.style.use(\"default\")\n",
    "\n",
    "# Create a plot of the circuit depth vs. number of qubits\n",
    "\n",
    "# Set the number of qubits\n",
    "x = np.logspace(1, 12, 12, base=2, dtype=int)\n",
    "\n",
    "# Get the circuit depth for qiskit implementation\n",
    "y_qiskit = [get_circuit_depth(qiskit_normal_distribution(int(n))) for n in x]\n",
    "# counts_list = list(counts_noisy1.items())\n",
    "y_qiskit1 = [get_circuit_depth(our_mult_soln_dist(int(n))) for n in x]\n"
   ]
  },
  {
   "cell_type": "code",
   "execution_count": null,
   "metadata": {},
   "outputs": [],
   "source": [
    "#rint(counts_list[][1])\n",
    "plt.plot(x, y_qiskit, label=\"qiskit orig\",marker='x')\n",
    "plt.plot(x, y_qiskit1, label=\"qiskit \",marker='x')\n",
    "\n",
    "# Any other implementations go here\n",
    "\n",
    "# Show the plot\n",
    "plt.xlabel(\"resolution $N_Z$\")\n",
    "plt.ylabel(\"circuit depth\")\n",
    "\n",
    "plt.xscale(\"log\")\n",
    "plt.yscale(\"log\")\n",
    "\n",
    "plt.legend()\n",
    "plt.show()"
   ]
  },
  {
   "cell_type": "markdown",
   "metadata": {},
   "source": [
    "# Hackathon challenge\n",
    "\n",
    "Your challenge is not to create a distribution loading method that can load distributions sub-exponential. That would be too much to ask (although it would be cool 😉).\n",
    "\n",
    "The challenge is to change the distribution loading of qiskit in such a way that the circuit depth is lower. Probably, you will need extra (ancilla) qubits for this, but that is no big issue, as quantum computers in the NISQ-era tend to have many physical qubits with low error rate. Error rate and noise are our enemies in this challenge, not the small size of the QPU's.\n",
    "\n",
    "When you have created a good distribution loading method, apply your new method to the credit risk analysis example. See if you can get to better accuracies than the qiskit implementation.\n",
    "\n",
    "Additionally, consider integrating the Quantinuum H-series systems into your analysis. For this challenge, the H1-1 emulator is available through Quantinuum Nexus for exploration. The H-series platforms could offer significant advantages in terms of error rates due to the system's high-fidelity qubits."
   ]
  },
  {
   "cell_type": "markdown",
   "metadata": {},
   "source": [
    "## Running on H-Series Emulators"
   ]
  },
  {
   "cell_type": "markdown",
   "metadata": {},
   "source": [
    "First convert Qiskit circuit to `pytket` circuit"
   ]
  },
  {
   "cell_type": "code",
   "execution_count": 28,
   "metadata": {},
   "outputs": [
    {
     "data": {
      "text/html": [
       "\n",
       "\n",
       "\n",
       "\n",
       "\n",
       "\n",
       "<div style=\"resize: vertical; overflow: auto; height: 400px; display: block\">\n",
       "    <iframe srcdoc=\"\n",
       "&lt;!DOCTYPE html&gt;\n",
       "&lt;html lang=&#34;en&#34;&gt;\n",
       "&lt;head&gt;\n",
       "    &lt;meta charset=&#34;UTF-8&#34;&gt;\n",
       "    &lt;!-- Download Vue 3--&gt;\n",
       "&lt;script type=&#34;application/javascript&#34; src=&#34;https://cdn.jsdelivr.net/npm/vue@3&#34;&gt;&lt;/script&gt;\n",
       "&lt;!-- Download Circuit Renderer with styles --&gt;\n",
       "&lt;script type=&#34;application/javascript&#34; src=&#34;https://unpkg.com/pytket-circuit-renderer@0.7/dist/pytket-circuit-renderer.umd.js&#34;&gt;&lt;/script&gt;\n",
       "&lt;link rel=&#34;stylesheet&#34; href=&#34;https://unpkg.com/pytket-circuit-renderer@0.7/dist/pytket-circuit-renderer.css&#34;&gt;\n",
       "&lt;/head&gt;\n",
       "&lt;body&gt;\n",
       "\n",
       "\n",
       "\n",
       "    &lt;div id=&#34;circuit-display-vue-container-fb36422a-0ad1-4239-8a02-78fb458a4360&#34; class=&#34;pytket-circuit-display-container&#34;&gt;\n",
       "        &lt;div style=&#34;display: none&#34;&gt;\n",
       "            &lt;div id=&#34;circuit-json-to-display&#34;&gt;{&#34;bits&#34;: [[&#34;meas&#34;, [0]], [&#34;meas&#34;, [1]], [&#34;meas&#34;, [2]], [&#34;meas&#34;, [3]], [&#34;meas&#34;, [4]]], &#34;commands&#34;: [{&#34;args&#34;: [[&#34;q&#34;, [0]]], &#34;op&#34;: {&#34;params&#34;: [&#34;1.5707963267949/pi&#34;], &#34;type&#34;: &#34;Ry&#34;}}, {&#34;args&#34;: [[&#34;q&#34;, [1]]], &#34;op&#34;: {&#34;params&#34;: [&#34;1.5707963267949/pi&#34;], &#34;type&#34;: &#34;Ry&#34;}}, {&#34;args&#34;: [[&#34;q&#34;, [2]]], &#34;op&#34;: {&#34;params&#34;: [&#34;1.5707963267949/pi&#34;], &#34;type&#34;: &#34;Ry&#34;}}, {&#34;args&#34;: [[&#34;q&#34;, [3]]], &#34;op&#34;: {&#34;params&#34;: [&#34;1.5707963267949/pi&#34;], &#34;type&#34;: &#34;Ry&#34;}}, {&#34;args&#34;: [[&#34;q&#34;, [4]]], &#34;op&#34;: {&#34;params&#34;: [&#34;1.5707963267949/pi&#34;], &#34;type&#34;: &#34;Ry&#34;}}, {&#34;args&#34;: [[&#34;q&#34;, [4]], [&#34;q&#34;, [3]]], &#34;op&#34;: {&#34;type&#34;: &#34;CX&#34;}}, {&#34;args&#34;: [[&#34;q&#34;, [3]]], &#34;op&#34;: {&#34;params&#34;: [&#34;0.865617981349209/pi&#34;], &#34;type&#34;: &#34;Ry&#34;}}, {&#34;args&#34;: [[&#34;q&#34;, [4]], [&#34;q&#34;, [3]]], &#34;op&#34;: {&#34;type&#34;: &#34;CX&#34;}}, {&#34;args&#34;: [[&#34;q&#34;, [3]], [&#34;q&#34;, [2]]], &#34;op&#34;: {&#34;type&#34;: &#34;CX&#34;}}, {&#34;args&#34;: [[&#34;q&#34;, [2]]], &#34;op&#34;: {&#34;params&#34;: [&#34;0.243934505134097/pi&#34;], &#34;type&#34;: &#34;Ry&#34;}}, {&#34;args&#34;: [[&#34;q&#34;, [4]], [&#34;q&#34;, [2]]], &#34;op&#34;: {&#34;type&#34;: &#34;CX&#34;}}, {&#34;args&#34;: [[&#34;q&#34;, [3]], [&#34;q&#34;, [2]]], &#34;op&#34;: {&#34;type&#34;: &#34;CX&#34;}}, {&#34;args&#34;: [[&#34;q&#34;, [2]]], &#34;op&#34;: {&#34;params&#34;: [&#34;0.526084852844625/pi&#34;], &#34;type&#34;: &#34;Ry&#34;}}, {&#34;args&#34;: [[&#34;q&#34;, [4]], [&#34;q&#34;, [2]]], &#34;op&#34;: {&#34;type&#34;: &#34;CX&#34;}}, {&#34;args&#34;: [[&#34;q&#34;, [2]], [&#34;q&#34;, [1]]], &#34;op&#34;: {&#34;type&#34;: &#34;CX&#34;}}, {&#34;args&#34;: [[&#34;q&#34;, [1]]], &#34;op&#34;: {&#34;params&#34;: [&#34;0.0703812555792505/pi&#34;], &#34;type&#34;: &#34;Ry&#34;}}, {&#34;args&#34;: [[&#34;q&#34;, [3]], [&#34;q&#34;, [1]]], &#34;op&#34;: {&#34;type&#34;: &#34;CX&#34;}}, {&#34;args&#34;: [[&#34;q&#34;, [2]], [&#34;q&#34;, [1]]], &#34;op&#34;: {&#34;type&#34;: &#34;CX&#34;}}, {&#34;args&#34;: [[&#34;q&#34;, [1]]], &#34;op&#34;: {&#34;params&#34;: [&#34;0.141407020244972/pi&#34;], &#34;type&#34;: &#34;Ry&#34;}}, {&#34;args&#34;: [[&#34;q&#34;, [4]], [&#34;q&#34;, [1]]], &#34;op&#34;: {&#34;type&#34;: &#34;CX&#34;}}, {&#34;args&#34;: [[&#34;q&#34;, [2]], [&#34;q&#34;, [1]]], &#34;op&#34;: {&#34;type&#34;: &#34;CX&#34;}}, {&#34;args&#34;: [[&#34;q&#34;, [1]]], &#34;op&#34;: {&#34;params&#34;: [&#34;-0.00296859714214059/pi&#34;], &#34;type&#34;: &#34;Ry&#34;}}, {&#34;args&#34;: [[&#34;q&#34;, [3]], [&#34;q&#34;, [1]]], &#34;op&#34;: {&#34;type&#34;: &#34;CX&#34;}}, {&#34;args&#34;: [[&#34;q&#34;, [2]], [&#34;q&#34;, [1]]], &#34;op&#34;: {&#34;type&#34;: &#34;CX&#34;}}, {&#34;args&#34;: [[&#34;q&#34;, [1]]], &#34;op&#34;: {&#34;params&#34;: [&#34;0.288909527017576/pi&#34;], &#34;type&#34;: &#34;Ry&#34;}}, {&#34;args&#34;: [[&#34;q&#34;, [4]], [&#34;q&#34;, [1]]], &#34;op&#34;: {&#34;type&#34;: &#34;CX&#34;}}, {&#34;args&#34;: [[&#34;q&#34;, [1]], [&#34;q&#34;, [0]]], &#34;op&#34;: {&#34;type&#34;: &#34;CX&#34;}}, {&#34;args&#34;: [[&#34;q&#34;, [0]]], &#34;op&#34;: {&#34;params&#34;: [&#34;0.0184593062693768/pi&#34;], &#34;type&#34;: &#34;Ry&#34;}}, {&#34;args&#34;: [[&#34;q&#34;, [2]], [&#34;q&#34;, [0]]], &#34;op&#34;: {&#34;type&#34;: &#34;CX&#34;}}, {&#34;args&#34;: [[&#34;q&#34;, [1]], [&#34;q&#34;, [0]]], &#34;op&#34;: {&#34;type&#34;: &#34;CX&#34;}}, {&#34;args&#34;: [[&#34;q&#34;, [0]]], &#34;op&#34;: {&#34;params&#34;: [&#34;0.036930864726764/pi&#34;], &#34;type&#34;: &#34;Ry&#34;}}, {&#34;args&#34;: [[&#34;q&#34;, [3]], [&#34;q&#34;, [0]]], &#34;op&#34;: {&#34;type&#34;: &#34;CX&#34;}}, {&#34;args&#34;: [[&#34;q&#34;, [1]], [&#34;q&#34;, [0]]], &#34;op&#34;: {&#34;type&#34;: &#34;CX&#34;}}, {&#34;args&#34;: [[&#34;q&#34;, [0]]], &#34;op&#34;: {&#34;params&#34;: [&#34;-4.94062509033555e-05/pi&#34;], &#34;type&#34;: &#34;Ry&#34;}}, {&#34;args&#34;: [[&#34;q&#34;, [2]], [&#34;q&#34;, [0]]], &#34;op&#34;: {&#34;type&#34;: &#34;CX&#34;}}, {&#34;args&#34;: [[&#34;q&#34;, [1]], [&#34;q&#34;, [0]]], &#34;op&#34;: {&#34;type&#34;: &#34;CX&#34;}}, {&#34;args&#34;: [[&#34;q&#34;, [0]]], &#34;op&#34;: {&#34;params&#34;: [&#34;0.0739607010742362/pi&#34;], &#34;type&#34;: &#34;Ry&#34;}}, {&#34;args&#34;: [[&#34;q&#34;, [4]], [&#34;q&#34;, [0]]], &#34;op&#34;: {&#34;type&#34;: &#34;CX&#34;}}, {&#34;args&#34;: [[&#34;q&#34;, [1]], [&#34;q&#34;, [0]]], &#34;op&#34;: {&#34;type&#34;: &#34;CX&#34;}}, {&#34;args&#34;: [[&#34;q&#34;, [0]]], &#34;op&#34;: {&#34;params&#34;: [&#34;-0.000204707753538327/pi&#34;], &#34;type&#34;: &#34;Ry&#34;}}, {&#34;args&#34;: [[&#34;q&#34;, [2]], [&#34;q&#34;, [0]]], &#34;op&#34;: {&#34;type&#34;: &#34;CX&#34;}}, {&#34;args&#34;: [[&#34;q&#34;, [1]], [&#34;q&#34;, [0]]], &#34;op&#34;: {&#34;type&#34;: &#34;CX&#34;}}, {&#34;args&#34;: [[&#34;q&#34;, [0]]], &#34;op&#34;: {&#34;params&#34;: [&#34;-0.000410111289697326/pi&#34;], &#34;type&#34;: &#34;Ry&#34;}}, {&#34;args&#34;: [[&#34;q&#34;, [3]], [&#34;q&#34;, [0]]], &#34;op&#34;: {&#34;type&#34;: &#34;CX&#34;}}, {&#34;args&#34;: [[&#34;q&#34;, [1]], [&#34;q&#34;, [0]]], &#34;op&#34;: {&#34;type&#34;: &#34;CX&#34;}}, {&#34;args&#34;: [[&#34;q&#34;, [0]]], &#34;op&#34;: {&#34;params&#34;: [&#34;-0.000101655226793826/pi&#34;], &#34;type&#34;: &#34;Ry&#34;}}, {&#34;args&#34;: [[&#34;q&#34;, [2]], [&#34;q&#34;, [0]]], &#34;op&#34;: {&#34;type&#34;: &#34;CX&#34;}}, {&#34;args&#34;: [[&#34;q&#34;, [1]], [&#34;q&#34;, [0]]], &#34;op&#34;: {&#34;type&#34;: &#34;CX&#34;}}, {&#34;args&#34;: [[&#34;q&#34;, [0]]], &#34;op&#34;: {&#34;params&#34;: [&#34;0.148747334052708/pi&#34;], &#34;type&#34;: &#34;Ry&#34;}}, {&#34;args&#34;: [[&#34;q&#34;, [4]], [&#34;q&#34;, [0]]], &#34;op&#34;: {&#34;type&#34;: &#34;CX&#34;}}, {&#34;args&#34;: [[&#34;q&#34;, [0]], [&#34;q&#34;, [1]], [&#34;q&#34;, [2]], [&#34;q&#34;, [3]], [&#34;q&#34;, [4]]], &#34;op&#34;: {&#34;data&#34;: &#34;&#34;, &#34;signature&#34;: [&#34;Q&#34;, &#34;Q&#34;, &#34;Q&#34;, &#34;Q&#34;, &#34;Q&#34;], &#34;type&#34;: &#34;Barrier&#34;}}, {&#34;args&#34;: [[&#34;q&#34;, [0]], [&#34;meas&#34;, [0]]], &#34;op&#34;: {&#34;type&#34;: &#34;Measure&#34;}}, {&#34;args&#34;: [[&#34;q&#34;, [1]], [&#34;meas&#34;, [1]]], &#34;op&#34;: {&#34;type&#34;: &#34;Measure&#34;}}, {&#34;args&#34;: [[&#34;q&#34;, [2]], [&#34;meas&#34;, [2]]], &#34;op&#34;: {&#34;type&#34;: &#34;Measure&#34;}}, {&#34;args&#34;: [[&#34;q&#34;, [3]], [&#34;meas&#34;, [3]]], &#34;op&#34;: {&#34;type&#34;: &#34;Measure&#34;}}, {&#34;args&#34;: [[&#34;q&#34;, [4]], [&#34;meas&#34;, [4]]], &#34;op&#34;: {&#34;type&#34;: &#34;Measure&#34;}}], &#34;created_qubits&#34;: [], &#34;discarded_qubits&#34;: [], &#34;implicit_permutation&#34;: [[[&#34;q&#34;, [0]], [&#34;q&#34;, [0]]], [[&#34;q&#34;, [1]], [&#34;q&#34;, [1]]], [[&#34;q&#34;, [2]], [&#34;q&#34;, [2]]], [[&#34;q&#34;, [3]], [&#34;q&#34;, [3]]], [[&#34;q&#34;, [4]], [&#34;q&#34;, [4]]]], &#34;name&#34;: &#34;P(X)&#34;, &#34;phase&#34;: &#34;0.0&#34;, &#34;qubits&#34;: [[&#34;q&#34;, [0]], [&#34;q&#34;, [1]], [&#34;q&#34;, [2]], [&#34;q&#34;, [3]], [&#34;q&#34;, [4]]]}&lt;/div&gt;\n",
       "        &lt;/div&gt;\n",
       "        &lt;circuit-display-container\n",
       "                :circuit-element-str=&#34;&#39;#circuit-json-to-display&#39;&#34;\n",
       "                :init-render-options=&#34;initRenderOptions&#34;\n",
       "        &gt;&lt;/circuit-display-container&gt;\n",
       "    &lt;/div&gt;\n",
       "    &lt;script type=&#34;application/javascript&#34;&gt;\n",
       "      const circuitRendererUid = &#34;fb36422a-0ad1-4239-8a02-78fb458a4360&#34;;\n",
       "      const displayOptions = JSON.parse(&#39;{}&#39;);\n",
       "\n",
       "      // Script to initialise the circuit renderer app\n",
       "\n",
       "const { createApp } = Vue;\n",
       "const circuitDisplayContainer = window[&#34;pytket-circuit-renderer&#34;].default;\n",
       "// Init variables to be shared between circuit display instances\n",
       "if (typeof window.pytketCircuitDisplays === &#34;undefined&#34;) {\n",
       "    window.pytketCircuitDisplays = {};\n",
       "}\n",
       "// Create the root Vue component\n",
       "const app = createApp({\n",
       "    delimiters: [&#39;[[#&#39;, &#39;#]]&#39;],\n",
       "    components: { circuitDisplayContainer },\n",
       "    data () {\n",
       "      return {\n",
       "        initRenderOptions: displayOptions,\n",
       "      }\n",
       "    }\n",
       "})\n",
       "app.config.unwrapInjectedRef = true;\n",
       "app.mount(&#34;#circuit-display-vue-container-&#34;+circuitRendererUid);\n",
       "window.pytketCircuitDisplays[circuitRendererUid] = app;\n",
       "    &lt;/script&gt;\n",
       "\n",
       "\n",
       "\n",
       "&lt;/body&gt;\n",
       "&lt;/html&gt;\n",
       "\"\n",
       "            width=\"100%\" height=\"100%\"\n",
       "            style=\"border: none; outline: none; overflow: auto\"></iframe>\n",
       "</div>\n",
       "\n"
      ],
      "text/plain": [
       "<IPython.core.display.HTML object>"
      ]
     },
     "metadata": {},
     "output_type": "display_data"
    }
   ],
   "source": [
    "from pytket.extensions.qiskit import qiskit_to_tk, AerBackend\n",
    "from pytket.circuit.display import render_circuit_jupyter\n",
    "\n",
    "tket_circuit = qiskit_to_tk(sol_distribution_measured)\n",
    "render_circuit_jupyter(tket_circuit)\n",
    "\n",
    "from pytket.extensions.quantinuum import QuantinuumBackend, QuantinuumAPIOffline\n",
    "api_offline = QuantinuumAPIOffline()\n",
    "qbackend = QuantinuumBackend(device_name=\"H1-1LE\", api_handler = api_offline)\n",
    "qcirc= qbackend.get_compiled_circuit(tket_circuit, optimisation_level=2)"
   ]
  },
  {
   "cell_type": "code",
   "execution_count": 19,
   "metadata": {},
   "outputs": [
    {
     "data": {
      "text/html": [
       "\n",
       "\n",
       "\n",
       "\n",
       "\n",
       "\n",
       "<div style=\"resize: vertical; overflow: auto; height: 400px; display: block\">\n",
       "    <iframe srcdoc=\"\n",
       "&lt;!DOCTYPE html&gt;\n",
       "&lt;html lang=&#34;en&#34;&gt;\n",
       "&lt;head&gt;\n",
       "    &lt;meta charset=&#34;UTF-8&#34;&gt;\n",
       "    &lt;!-- Download Vue 3--&gt;\n",
       "&lt;script type=&#34;application/javascript&#34; src=&#34;https://cdn.jsdelivr.net/npm/vue@3&#34;&gt;&lt;/script&gt;\n",
       "&lt;!-- Download Circuit Renderer with styles --&gt;\n",
       "&lt;script type=&#34;application/javascript&#34; src=&#34;https://unpkg.com/pytket-circuit-renderer@0.7/dist/pytket-circuit-renderer.umd.js&#34;&gt;&lt;/script&gt;\n",
       "&lt;link rel=&#34;stylesheet&#34; href=&#34;https://unpkg.com/pytket-circuit-renderer@0.7/dist/pytket-circuit-renderer.css&#34;&gt;\n",
       "&lt;/head&gt;\n",
       "&lt;body&gt;\n",
       "\n",
       "\n",
       "\n",
       "    &lt;div id=&#34;circuit-display-vue-container-c5f542a1-613d-4ee9-ab4c-e90716d0fef8&#34; class=&#34;pytket-circuit-display-container&#34;&gt;\n",
       "        &lt;div style=&#34;display: none&#34;&gt;\n",
       "            &lt;div id=&#34;circuit-json-to-display&#34;&gt;{&#34;bits&#34;: [[&#34;meas&#34;, [0]], [&#34;meas&#34;, [1]], [&#34;meas&#34;, [2]], [&#34;meas&#34;, [3]], [&#34;meas&#34;, [4]]], &#34;commands&#34;: [{&#34;args&#34;: [[&#34;q&#34;, [0]]], &#34;op&#34;: {&#34;params&#34;: [&#34;-1.0&#34;, &#34;1/2&#34;], &#34;type&#34;: &#34;PhasedX&#34;}}, {&#34;args&#34;: [[&#34;q&#34;, [1]]], &#34;op&#34;: {&#34;params&#34;: [&#34;-1.0&#34;, &#34;1/2&#34;], &#34;type&#34;: &#34;PhasedX&#34;}}, {&#34;args&#34;: [[&#34;q&#34;, [2]]], &#34;op&#34;: {&#34;params&#34;: [&#34;-1.0&#34;, &#34;1/2&#34;], &#34;type&#34;: &#34;PhasedX&#34;}}, {&#34;args&#34;: [[&#34;q&#34;, [3]]], &#34;op&#34;: {&#34;params&#34;: [&#34;-1.5&#34;, &#34;0&#34;], &#34;type&#34;: &#34;PhasedX&#34;}}, {&#34;args&#34;: [[&#34;q&#34;, [4]]], &#34;op&#34;: {&#34;params&#34;: [&#34;-1.5&#34;, &#34;0.5&#34;], &#34;type&#34;: &#34;PhasedX&#34;}}, {&#34;args&#34;: [[&#34;q&#34;, [4]], [&#34;q&#34;, [3]]], &#34;op&#34;: {&#34;params&#34;: [&#34;0.27553476112191&#34;], &#34;type&#34;: &#34;ZZPhase&#34;}}, {&#34;args&#34;: [[&#34;q&#34;, [3]]], &#34;op&#34;: {&#34;params&#34;: [&#34;-1.5&#34;, &#34;-3/2&#34;], &#34;type&#34;: &#34;PhasedX&#34;}}, {&#34;args&#34;: [[&#34;q&#34;, [3]], [&#34;q&#34;, [2]]], &#34;op&#34;: {&#34;params&#34;: [&#34;0.5&#34;], &#34;type&#34;: &#34;ZZPhase&#34;}}, {&#34;args&#34;: [[&#34;q&#34;, [2]]], &#34;op&#34;: {&#34;params&#34;: [&#34;1.92235323543447&#34;, &#34;0&#34;], &#34;type&#34;: &#34;PhasedX&#34;}}, {&#34;args&#34;: [[&#34;q&#34;, [4]], [&#34;q&#34;, [2]]], &#34;op&#34;: {&#34;params&#34;: [&#34;0.5&#34;], &#34;type&#34;: &#34;ZZPhase&#34;}}, {&#34;args&#34;: [[&#34;q&#34;, [3]], [&#34;q&#34;, [2]]], &#34;op&#34;: {&#34;params&#34;: [&#34;0.5&#34;], &#34;type&#34;: &#34;ZZPhase&#34;}}, {&#34;args&#34;: [[&#34;q&#34;, [2]]], &#34;op&#34;: {&#34;params&#34;: [&#34;0.167458009631989&#34;, &#34;0&#34;], &#34;type&#34;: &#34;PhasedX&#34;}}, {&#34;args&#34;: [[&#34;q&#34;, [4]], [&#34;q&#34;, [2]]], &#34;op&#34;: {&#34;params&#34;: [&#34;0.5&#34;], &#34;type&#34;: &#34;ZZPhase&#34;}}, {&#34;args&#34;: [[&#34;q&#34;, [2]]], &#34;op&#34;: {&#34;params&#34;: [&#34;0.5&#34;, &#34;-1/2&#34;], &#34;type&#34;: &#34;PhasedX&#34;}}, {&#34;args&#34;: [[&#34;q&#34;, [2]], [&#34;q&#34;, [1]]], &#34;op&#34;: {&#34;params&#34;: [&#34;0.5&#34;], &#34;type&#34;: &#34;ZZPhase&#34;}}, {&#34;args&#34;: [[&#34;q&#34;, [1]]], &#34;op&#34;: {&#34;params&#34;: [&#34;1.9775969505471&#34;, &#34;0&#34;], &#34;type&#34;: &#34;PhasedX&#34;}}, {&#34;args&#34;: [[&#34;q&#34;, [3]], [&#34;q&#34;, [1]]], &#34;op&#34;: {&#34;params&#34;: [&#34;0.5&#34;], &#34;type&#34;: &#34;ZZPhase&#34;}}, {&#34;args&#34;: [[&#34;q&#34;, [2]], [&#34;q&#34;, [1]]], &#34;op&#34;: {&#34;params&#34;: [&#34;0.5&#34;], &#34;type&#34;: &#34;ZZPhase&#34;}}, {&#34;args&#34;: [[&#34;q&#34;, [1]]], &#34;op&#34;: {&#34;params&#34;: [&#34;-1.95498874748023&#34;, &#34;0&#34;], &#34;type&#34;: &#34;PhasedX&#34;}}, {&#34;args&#34;: [[&#34;q&#34;, [4]], [&#34;q&#34;, [1]]], &#34;op&#34;: {&#34;params&#34;: [&#34;0.5&#34;], &#34;type&#34;: &#34;ZZPhase&#34;}}, {&#34;args&#34;: [[&#34;q&#34;, [2]], [&#34;q&#34;, [1]]], &#34;op&#34;: {&#34;params&#34;: [&#34;0.5&#34;], &#34;type&#34;: &#34;ZZPhase&#34;}}, {&#34;args&#34;: [[&#34;q&#34;, [1]]], &#34;op&#34;: {&#34;params&#34;: [&#34;2.00094493381844&#34;, &#34;0&#34;], &#34;type&#34;: &#34;PhasedX&#34;}}, {&#34;args&#34;: [[&#34;q&#34;, [3]], [&#34;q&#34;, [1]]], &#34;op&#34;: {&#34;params&#34;: [&#34;0.5&#34;], &#34;type&#34;: &#34;ZZPhase&#34;}}, {&#34;args&#34;: [[&#34;q&#34;, [2]], [&#34;q&#34;, [1]]], &#34;op&#34;: {&#34;params&#34;: [&#34;0.5&#34;], &#34;type&#34;: &#34;ZZPhase&#34;}}, {&#34;args&#34;: [[&#34;q&#34;, [1]]], &#34;op&#34;: {&#34;params&#34;: [&#34;0.0919627586623775&#34;, &#34;0&#34;], &#34;type&#34;: &#34;PhasedX&#34;}}, {&#34;args&#34;: [[&#34;q&#34;, [4]], [&#34;q&#34;, [1]]], &#34;op&#34;: {&#34;params&#34;: [&#34;0.5&#34;], &#34;type&#34;: &#34;ZZPhase&#34;}}, {&#34;args&#34;: [[&#34;q&#34;, [1]]], &#34;op&#34;: {&#34;params&#34;: [&#34;0.5&#34;, &#34;-1/2&#34;], &#34;type&#34;: &#34;PhasedX&#34;}}, {&#34;args&#34;: [[&#34;q&#34;, [1]], [&#34;q&#34;, [0]]], &#34;op&#34;: {&#34;params&#34;: [&#34;0.5&#34;], &#34;type&#34;: &#34;ZZPhase&#34;}}, {&#34;args&#34;: [[&#34;q&#34;, [0]]], &#34;op&#34;: {&#34;params&#34;: [&#34;1.99412422032236&#34;, &#34;0&#34;], &#34;type&#34;: &#34;PhasedX&#34;}}, {&#34;args&#34;: [[&#34;q&#34;, [2]], [&#34;q&#34;, [0]]], &#34;op&#34;: {&#34;params&#34;: [&#34;0.5&#34;], &#34;type&#34;: &#34;ZZPhase&#34;}}, {&#34;args&#34;: [[&#34;q&#34;, [1]], [&#34;q&#34;, [0]]], &#34;op&#34;: {&#34;params&#34;: [&#34;0.5&#34;], &#34;type&#34;: &#34;ZZPhase&#34;}}, {&#34;args&#34;: [[&#34;q&#34;, [0]]], &#34;op&#34;: {&#34;params&#34;: [&#34;-1.98824454065216&#34;, &#34;0&#34;], &#34;type&#34;: &#34;PhasedX&#34;}}, {&#34;args&#34;: [[&#34;q&#34;, [3]], [&#34;q&#34;, [0]]], &#34;op&#34;: {&#34;params&#34;: [&#34;0.5&#34;], &#34;type&#34;: &#34;ZZPhase&#34;}}, {&#34;args&#34;: [[&#34;q&#34;, [1]], [&#34;q&#34;, [0]]], &#34;op&#34;: {&#34;params&#34;: [&#34;0.5&#34;], &#34;type&#34;: &#34;ZZPhase&#34;}}, {&#34;args&#34;: [[&#34;q&#34;, [0]]], &#34;op&#34;: {&#34;params&#34;: [&#34;2.0000157264981&#34;, &#34;0&#34;], &#34;type&#34;: &#34;PhasedX&#34;}}, {&#34;args&#34;: [[&#34;q&#34;, [2]], [&#34;q&#34;, [0]]], &#34;op&#34;: {&#34;params&#34;: [&#34;0.5&#34;], &#34;type&#34;: &#34;ZZPhase&#34;}}, {&#34;args&#34;: [[&#34;q&#34;, [1]], [&#34;q&#34;, [0]]], &#34;op&#34;: {&#34;params&#34;: [&#34;0.5&#34;], &#34;type&#34;: &#34;ZZPhase&#34;}}, {&#34;args&#34;: [[&#34;q&#34;, [0]]], &#34;op&#34;: {&#34;params&#34;: [&#34;-1.97645757765899&#34;, &#34;0&#34;], &#34;type&#34;: &#34;PhasedX&#34;}}, {&#34;args&#34;: [[&#34;q&#34;, [4]], [&#34;q&#34;, [0]]], &#34;op&#34;: {&#34;params&#34;: [&#34;0.5&#34;], &#34;type&#34;: &#34;ZZPhase&#34;}}, {&#34;args&#34;: [[&#34;q&#34;, [1]], [&#34;q&#34;, [0]]], &#34;op&#34;: {&#34;params&#34;: [&#34;0.5&#34;], &#34;type&#34;: &#34;ZZPhase&#34;}}, {&#34;args&#34;: [[&#34;q&#34;, [0]]], &#34;op&#34;: {&#34;params&#34;: [&#34;2.00006516050173&#34;, &#34;0&#34;], &#34;type&#34;: &#34;PhasedX&#34;}}, {&#34;args&#34;: [[&#34;q&#34;, [2]], [&#34;q&#34;, [0]]], &#34;op&#34;: {&#34;params&#34;: [&#34;0.5&#34;], &#34;type&#34;: &#34;ZZPhase&#34;}}, {&#34;args&#34;: [[&#34;q&#34;, [1]], [&#34;q&#34;, [0]]], &#34;op&#34;: {&#34;params&#34;: [&#34;0.5&#34;], &#34;type&#34;: &#34;ZZPhase&#34;}}, {&#34;args&#34;: [[&#34;q&#34;, [0]]], &#34;op&#34;: {&#34;params&#34;: [&#34;-2.00013054247795&#34;, &#34;0&#34;], &#34;type&#34;: &#34;PhasedX&#34;}}, {&#34;args&#34;: [[&#34;q&#34;, [3]], [&#34;q&#34;, [0]]], &#34;op&#34;: {&#34;params&#34;: [&#34;0.5&#34;], &#34;type&#34;: &#34;ZZPhase&#34;}}, {&#34;args&#34;: [[&#34;q&#34;, [1]], [&#34;q&#34;, [0]]], &#34;op&#34;: {&#34;params&#34;: [&#34;0.5&#34;], &#34;type&#34;: &#34;ZZPhase&#34;}}, {&#34;args&#34;: [[&#34;q&#34;, [3]]], &#34;op&#34;: {&#34;params&#34;: [&#34;3/2&#34;], &#34;type&#34;: &#34;Rz&#34;}}, {&#34;args&#34;: [[&#34;q&#34;, [0]]], &#34;op&#34;: {&#34;params&#34;: [&#34;2.00003235786367&#34;, &#34;0&#34;], &#34;type&#34;: &#34;PhasedX&#34;}}, {&#34;args&#34;: [[&#34;q&#34;, [2]], [&#34;q&#34;, [0]]], &#34;op&#34;: {&#34;params&#34;: [&#34;0.5&#34;], &#34;type&#34;: &#34;ZZPhase&#34;}}, {&#34;args&#34;: [[&#34;q&#34;, [1]], [&#34;q&#34;, [0]]], &#34;op&#34;: {&#34;params&#34;: [&#34;0.5&#34;], &#34;type&#34;: &#34;ZZPhase&#34;}}, {&#34;args&#34;: [[&#34;q&#34;, [0]]], &#34;op&#34;: {&#34;params&#34;: [&#34;0.0473477469724602&#34;, &#34;0&#34;], &#34;type&#34;: &#34;PhasedX&#34;}}, {&#34;args&#34;: [[&#34;q&#34;, [4]], [&#34;q&#34;, [0]]], &#34;op&#34;: {&#34;params&#34;: [&#34;0.5&#34;], &#34;type&#34;: &#34;ZZPhase&#34;}}, {&#34;args&#34;: [[&#34;q&#34;, [0]]], &#34;op&#34;: {&#34;params&#34;: [&#34;1/2&#34;, &#34;-1/2&#34;], &#34;type&#34;: &#34;PhasedX&#34;}}, {&#34;args&#34;: [[&#34;q&#34;, [4]]], &#34;op&#34;: {&#34;params&#34;: [&#34;15.0&#34;], &#34;type&#34;: &#34;Rz&#34;}}, {&#34;args&#34;: [[&#34;q&#34;, [0]], [&#34;q&#34;, [1]], [&#34;q&#34;, [2]], [&#34;q&#34;, [3]], [&#34;q&#34;, [4]]], &#34;op&#34;: {&#34;data&#34;: &#34;&#34;, &#34;signature&#34;: [&#34;Q&#34;, &#34;Q&#34;, &#34;Q&#34;, &#34;Q&#34;, &#34;Q&#34;], &#34;type&#34;: &#34;Barrier&#34;}}, {&#34;args&#34;: [[&#34;q&#34;, [0]], [&#34;meas&#34;, [0]]], &#34;op&#34;: {&#34;type&#34;: &#34;Measure&#34;}}, {&#34;args&#34;: [[&#34;q&#34;, [1]], [&#34;meas&#34;, [1]]], &#34;op&#34;: {&#34;type&#34;: &#34;Measure&#34;}}, {&#34;args&#34;: [[&#34;q&#34;, [2]], [&#34;meas&#34;, [2]]], &#34;op&#34;: {&#34;type&#34;: &#34;Measure&#34;}}, {&#34;args&#34;: [[&#34;q&#34;, [3]], [&#34;meas&#34;, [3]]], &#34;op&#34;: {&#34;type&#34;: &#34;Measure&#34;}}, {&#34;args&#34;: [[&#34;q&#34;, [4]], [&#34;meas&#34;, [4]]], &#34;op&#34;: {&#34;type&#34;: &#34;Measure&#34;}}], &#34;created_qubits&#34;: [], &#34;discarded_qubits&#34;: [], &#34;implicit_permutation&#34;: [[[&#34;q&#34;, [0]], [&#34;q&#34;, [0]]], [[&#34;q&#34;, [1]], [&#34;q&#34;, [1]]], [[&#34;q&#34;, [2]], [&#34;q&#34;, [2]]], [[&#34;q&#34;, [3]], [&#34;q&#34;, [3]]], [[&#34;q&#34;, [4]], [&#34;q&#34;, [4]]]], &#34;name&#34;: &#34;P(X)&#34;, &#34;phase&#34;: &#34;0.0&#34;, &#34;qubits&#34;: [[&#34;q&#34;, [0]], [&#34;q&#34;, [1]], [&#34;q&#34;, [2]], [&#34;q&#34;, [3]], [&#34;q&#34;, [4]]]}&lt;/div&gt;\n",
       "        &lt;/div&gt;\n",
       "        &lt;circuit-display-container\n",
       "                :circuit-element-str=&#34;&#39;#circuit-json-to-display&#39;&#34;\n",
       "                :init-render-options=&#34;initRenderOptions&#34;\n",
       "        &gt;&lt;/circuit-display-container&gt;\n",
       "    &lt;/div&gt;\n",
       "    &lt;script type=&#34;application/javascript&#34;&gt;\n",
       "      const circuitRendererUid = &#34;c5f542a1-613d-4ee9-ab4c-e90716d0fef8&#34;;\n",
       "      const displayOptions = JSON.parse(&#39;{}&#39;);\n",
       "\n",
       "      // Script to initialise the circuit renderer app\n",
       "\n",
       "const { createApp } = Vue;\n",
       "const circuitDisplayContainer = window[&#34;pytket-circuit-renderer&#34;].default;\n",
       "// Init variables to be shared between circuit display instances\n",
       "if (typeof window.pytketCircuitDisplays === &#34;undefined&#34;) {\n",
       "    window.pytketCircuitDisplays = {};\n",
       "}\n",
       "// Create the root Vue component\n",
       "const app = createApp({\n",
       "    delimiters: [&#39;[[#&#39;, &#39;#]]&#39;],\n",
       "    components: { circuitDisplayContainer },\n",
       "    data () {\n",
       "      return {\n",
       "        initRenderOptions: displayOptions,\n",
       "      }\n",
       "    }\n",
       "})\n",
       "app.config.unwrapInjectedRef = true;\n",
       "app.mount(&#34;#circuit-display-vue-container-&#34;+circuitRendererUid);\n",
       "window.pytketCircuitDisplays[circuitRendererUid] = app;\n",
       "    &lt;/script&gt;\n",
       "\n",
       "\n",
       "\n",
       "&lt;/body&gt;\n",
       "&lt;/html&gt;\n",
       "\"\n",
       "            width=\"100%\" height=\"100%\"\n",
       "            style=\"border: none; outline: none; overflow: auto\"></iframe>\n",
       "</div>\n",
       "\n"
      ],
      "text/plain": [
       "<IPython.core.display.HTML object>"
      ]
     },
     "metadata": {},
     "output_type": "display_data"
    }
   ],
   "source": [
    "render_circuit_jupyter(qcirc)"
   ]
  },
  {
   "cell_type": "code",
   "execution_count": 30,
   "metadata": {},
   "outputs": [
    {
     "name": "stdout",
     "output_type": "stream",
     "text": [
      "('ff100f20-fa76-11ee-bb84-2243055f089e', 'null', 5, '[[\"meas\", 0], [\"meas\", 1], [\"meas\", 2], [\"meas\", 3], [\"meas\", 4]]')\n"
     ]
    },
    {
     "data": {
      "text/plain": [
       "{(0, 0, 0, 0, 1): 0.12,\n",
       " (0, 0, 0, 1, 0): 0.04,\n",
       " (0, 0, 0, 1, 1): 0.03,\n",
       " (0, 0, 1, 0, 0): 0.02,\n",
       " (0, 0, 1, 0, 1): 0.05,\n",
       " (0, 0, 1, 1, 0): 0.08,\n",
       " (0, 0, 1, 1, 1): 0.01,\n",
       " (0, 1, 0, 0, 1): 0.02,\n",
       " (0, 1, 0, 1, 0): 0.05,\n",
       " (0, 1, 1, 0, 0): 0.02,\n",
       " (0, 1, 1, 0, 1): 0.03,\n",
       " (0, 1, 1, 1, 0): 0.05,\n",
       " (1, 0, 0, 0, 1): 0.05,\n",
       " (1, 0, 0, 1, 0): 0.04,\n",
       " (1, 0, 0, 1, 1): 0.02,\n",
       " (1, 0, 1, 0, 1): 0.05,\n",
       " (1, 0, 1, 1, 0): 0.06,\n",
       " (1, 0, 1, 1, 1): 0.01,\n",
       " (1, 1, 0, 0, 1): 0.06,\n",
       " (1, 1, 0, 1, 0): 0.08,\n",
       " (1, 1, 0, 1, 1): 0.01,\n",
       " (1, 1, 1, 0, 0): 0.01,\n",
       " (1, 1, 1, 0, 1): 0.01,\n",
       " (1, 1, 1, 1, 0): 0.08}"
      ]
     },
     "execution_count": 30,
     "metadata": {},
     "output_type": "execute_result"
    }
   ],
   "source": [
    "handle = qbackend.process_circuit(qcirc, n_shots=100)\n",
    "print(handle)\n",
    "\n",
    "qbackend.circuit_status(handle)\n",
    "result = qbackend.get_result(handle)\n",
    "\n",
    "result.get_distribution()"
   ]
  },
  {
   "cell_type": "code",
   "execution_count": null,
   "metadata": {},
   "outputs": [],
   "source": []
  }
 ],
 "metadata": {
  "kernelspec": {
   "display_name": "Python 3 (ipykernel)",
   "language": "python",
   "name": "python3"
  },
  "language_info": {
   "codemirror_mode": {
    "name": "ipython",
    "version": 3
   },
   "file_extension": ".py",
   "mimetype": "text/x-python",
   "name": "python",
   "nbconvert_exporter": "python",
   "pygments_lexer": "ipython3",
   "version": "3.10.11"
  }
 },
 "nbformat": 4,
 "nbformat_minor": 4
}
